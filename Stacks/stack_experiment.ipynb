{
 "cells": [
  {
   "cell_type": "code",
   "execution_count": 1,
   "metadata": {},
   "outputs": [],
   "source": [
    "init_queue = [] # we will initialize with an an empty list for the queue"
   ]
  },
  {
   "cell_type": "code",
   "execution_count": 7,
   "metadata": {},
   "outputs": [
    {
     "data": {
      "text/plain": [
       "[1, 5, 3]"
      ]
     },
     "execution_count": 7,
     "metadata": {},
     "output_type": "execute_result"
    }
   ],
   "source": [
    "# insertion will add an element to the top of the stack\n",
    "init_queue.clear() # clear the stack ( This can be optional step )\n",
    "init_queue.append(1) # \n",
    "init_queue.append(5) # \n",
    "init_queue.append(3) # \n",
    "init_queue # Notice all the element insertion will happen from right side\n",
    "\n",
    "# insertion operation - list will grow on the right side"
   ]
  },
  {
   "cell_type": "code",
   "execution_count": 8,
   "metadata": {},
   "outputs": [
    {
     "name": "stdout",
     "output_type": "stream",
     "text": [
      "element_popped 3\n"
     ]
    },
    {
     "data": {
      "text/plain": [
       "[1, 5]"
      ]
     },
     "execution_count": 8,
     "metadata": {},
     "output_type": "execute_result"
    }
   ],
   "source": [
    "# stack pop will remove an element from the top of the stack \n",
    "\n",
    "element_popped = init_queue.pop() # This will remove the top element from the stack\n",
    "print(\"element_popped\", element_popped) # 3\n",
    "init_queue # Notice all the element removal will happen from left side or from top side\n"
   ]
  },
  {
   "cell_type": "code",
   "execution_count": 9,
   "metadata": {},
   "outputs": [
    {
     "name": "stdout",
     "output_type": "stream",
     "text": [
      "element_popped 5\n"
     ]
    },
    {
     "data": {
      "text/plain": [
       "[1]"
      ]
     },
     "execution_count": 9,
     "metadata": {},
     "output_type": "execute_result"
    }
   ],
   "source": [
    "element_popped = init_queue.pop() # This will remove the top element from the stack\n",
    "print(\"element_popped\", element_popped) # 3\n",
    "init_queue # Notice all the element removal will happen from left side or from top side"
   ]
  },
  {
   "cell_type": "code",
   "execution_count": 10,
   "metadata": {},
   "outputs": [
    {
     "name": "stdout",
     "output_type": "stream",
     "text": [
      "element_popped 1\n"
     ]
    },
    {
     "data": {
      "text/plain": [
       "[]"
      ]
     },
     "execution_count": 10,
     "metadata": {},
     "output_type": "execute_result"
    }
   ],
   "source": [
    "element_popped = init_queue.pop() # This will remove the top element from the stack\n",
    "print(\"element_popped\", element_popped) # 3\n",
    "init_queue # Notice all the element removal will happen from left side or from top side"
   ]
  },
  {
   "cell_type": "code",
   "execution_count": 20,
   "metadata": {},
   "outputs": [
    {
     "name": "stdout",
     "output_type": "stream",
     "text": [
      "popped element is: 5\n",
      "peaked element is: 1\n"
     ]
    }
   ],
   "source": [
    "class custom_stack:\n",
    "    def __init__(self):\n",
    "        self.data = [] # we will initialize with an an empty list for the stack\n",
    "\n",
    "    def push(self, element):\n",
    "        self.data.append(element) # insertion will add an element to the top of the stack\n",
    "    \n",
    "    def pop(self):\n",
    "        return self.data.pop() # stack pop will remove an element from the top of the stack\n",
    "\n",
    "    def peak(self):\n",
    "        return self.data[-1]\n",
    "\n",
    "stack = custom_stack()\n",
    "stack.push(1)\n",
    "stack.push(5)\n",
    "\n",
    "test = stack.pop()\n",
    "print(f\"popped element is: {test}\") # 5\n",
    "\n",
    "top_element = stack.peak()\n",
    "print(f\"peaked element is: {top_element}\") # 1"
   ]
  }
 ],
 "metadata": {
  "kernelspec": {
   "display_name": "Python 3",
   "language": "python",
   "name": "python3"
  },
  "language_info": {
   "codemirror_mode": {
    "name": "ipython",
    "version": 3
   },
   "file_extension": ".py",
   "mimetype": "text/x-python",
   "name": "python",
   "nbconvert_exporter": "python",
   "pygments_lexer": "ipython3",
   "version": "3.11.9"
  }
 },
 "nbformat": 4,
 "nbformat_minor": 2
}
