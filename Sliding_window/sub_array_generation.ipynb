{
 "cells": [
  {
   "cell_type": "code",
   "execution_count": 23,
   "metadata": {},
   "outputs": [
    {
     "name": "stdout",
     "output_type": "stream",
     "text": [
      "[[1], [9], [8], [7], [6], [5], [4], [3], [2], [1, 9], [9, 8], [8, 7], [7, 6], [6, 5], [5, 4], [4, 3], [3, 2], [1, 9, 8], [9, 8, 7], [8, 7, 6], [7, 6, 5], [6, 5, 4], [5, 4, 3], [4, 3, 2], [1, 9, 8, 7], [9, 8, 7, 6], [8, 7, 6, 5], [7, 6, 5, 4], [6, 5, 4, 3], [5, 4, 3, 2], [1, 9, 8, 7, 6], [9, 8, 7, 6, 5], [8, 7, 6, 5, 4], [7, 6, 5, 4, 3], [6, 5, 4, 3, 2], [1, 9, 8, 7, 6, 5], [9, 8, 7, 6, 5, 4], [8, 7, 6, 5, 4, 3], [7, 6, 5, 4, 3, 2], [1, 9, 8, 7, 6, 5, 4], [9, 8, 7, 6, 5, 4, 3], [8, 7, 6, 5, 4, 3, 2], [1, 9, 8, 7, 6, 5, 4, 3], [9, 8, 7, 6, 5, 4, 3, 2], [1, 9, 8, 7, 6, 5, 4, 3, 2]]\n"
     ]
    }
   ],
   "source": [
    "s = [1,9,8,7,6,5,4,3,2,1]\n",
    "l = r = 0 \n",
    "width = 1 \n",
    "main_list = []\n",
    "for l in range(len(s)):\n",
    "    r = l      # we are always going to start from the left index \n",
    "    width = 1  # we are always going to start with a width of 1\n",
    "    while r + width < len(s):\n",
    "        main_list.append(s[r:r+width]) \n",
    "        width+=1 # This is variable width sliding window with the current iteration \n",
    "    l+=1\n",
    "\n",
    "main_list = sorted(main_list, key=len)\n",
    "\n",
    "print(main_list)"
   ]
  },
  {
   "cell_type": "code",
   "execution_count": 9,
   "metadata": {},
   "outputs": [
    {
     "name": "stdout",
     "output_type": "stream",
     "text": [
      "[[5, 8, 7], [8, 7, 5], [7, 5, 4], [5, 4, 3], [4, 3, 2], [3, 2, 1]]\n"
     ]
    }
   ],
   "source": [
    "nums = [5,8,7,5,4,3,2,1]\n",
    "l = r = 0 \n",
    "window = [] \n",
    "target_sub_array_len = 3 # we can change this and to get the desired output of sub arrays of fixed length\n",
    "while l < len(nums):\n",
    "    r = l\n",
    "    k = 1  # Assume the length always start from 1 \n",
    "    while r + (k - 1) < len(nums):\n",
    "        if len(nums[r:r+k]) == target_sub_array_len:\n",
    "            window.append(nums[r:r+k])\n",
    "        k+=1\n",
    "    l+=1\n",
    "print(window)"
   ]
  },
  {
   "cell_type": "code",
   "execution_count": 1,
   "metadata": {},
   "outputs": [
    {
     "name": "stdout",
     "output_type": "stream",
     "text": [
      "[[1, 9, 8], [9, 8, 7], [8, 7, 6], [7, 6, 5], [6, 5, 4], [5, 4, 3], [4, 3, 2], [3, 2, 1]]\n"
     ]
    }
   ],
   "source": [
    "s = [1,9,8,7,6,5,4,3,2,1]\n",
    "r = 0\n",
    "width = 3 # we will keeping the constant width of 3\n",
    "window = [] \n",
    "while r + width <= len(s):\n",
    "    window.append(s[r:r+width])\n",
    "    r+=1 # we will increase the right pointer and keep width constant\n",
    "print(window)"
   ]
  },
  {
   "cell_type": "code",
   "execution_count": 20,
   "metadata": {},
   "outputs": [
    {
     "name": "stdout",
     "output_type": "stream",
     "text": [
      "[[1, 9], [1, 9, 8], [1, 9, 8, 7], [1, 9, 8, 7, 6], [1, 9, 8, 7, 6, 5], [1, 9, 8, 7, 6, 5, 4], [1, 9, 8, 7, 6, 5, 4, 3], [1, 9, 8, 7, 6, 5, 4, 3, 2], [1, 9, 8, 7, 6, 5, 4, 3, 2, 1]]\n"
     ]
    }
   ],
   "source": [
    "s = [1,9,8,7,6,5,4,3,2,1]\n",
    "r = 0\n",
    "width = 2 # This is the starting width\n",
    "window = [] \n",
    "while r + width <= len(s):\n",
    "    window.append(s[r:r+width])\n",
    "    width+=1 # we will increase the width and keep the right pointer constant\n",
    "print(window)"
   ]
  },
  {
   "cell_type": "code",
   "execution_count": 7,
   "metadata": {},
   "outputs": [
    {
     "name": "stdout",
     "output_type": "stream",
     "text": [
      "bb\n"
     ]
    }
   ],
   "source": [
    "def generate_substrings(s):\n",
    "    char_index = 0\n",
    "    string_list = []\n",
    "    while char_index < len(s):\n",
    "        length_idx = 1  # Start with substrings of length 1\n",
    "        while char_index + length_idx <= len(s):\n",
    "            string_list.append(s[char_index:char_index + length_idx])\n",
    "            length_idx += 1  # Increase the length of the substring\n",
    "        char_index += 1  # Move to the next starting position\n",
    "    return string_list\n",
    "\n",
    "def find_shortest_common_substrings(s1, s2):\n",
    "    substrings1 = generate_substrings(s1)\n",
    "    substrings2 = generate_substrings(s2)\n",
    "\n",
    "    # Convert lists to sets to find the intersection (common substrings)\n",
    "    common_substrings = set(substrings1) & set(substrings2)\n",
    "\n",
    "    # Sort common substrings by length\n",
    "    sorted_common_substrings = sorted(common_substrings, key=len)\n",
    "\n",
    "    return sorted_common_substrings\n",
    "\n",
    "# Example usage\n",
    "s1 = \"bbcdabb\"\n",
    "s2 = \"bbbbbb\"\n",
    "\n",
    "shortest_common_substrings = find_shortest_common_substrings(s1, s2)\n",
    "# for substring in shortest_common_substrings:\n",
    "#     print(substring)\n",
    "\n",
    "shortest_common_substrings = sorted(shortest_common_substrings, key=len, reverse=True )[0]\n",
    "print(shortest_common_substrings)"
   ]
  }
 ],
 "metadata": {
  "kernelspec": {
   "display_name": "Python 3",
   "language": "python",
   "name": "python3"
  },
  "language_info": {
   "codemirror_mode": {
    "name": "ipython",
    "version": 3
   },
   "file_extension": ".py",
   "mimetype": "text/x-python",
   "name": "python",
   "nbconvert_exporter": "python",
   "pygments_lexer": "ipython3",
   "version": "3.11.9"
  }
 },
 "nbformat": 4,
 "nbformat_minor": 2
}
