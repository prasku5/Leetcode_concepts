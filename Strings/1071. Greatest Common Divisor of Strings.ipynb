{
 "cells": [
  {
   "cell_type": "code",
   "execution_count": 1,
   "metadata": {},
   "outputs": [],
   "source": [
    "# For two strings s and t, we say \"t divides s\" if and only if s = t + t + t + ... + t + t (i.e., t is concatenated\n",
    "#  with itself one or more times).\n",
    "\n",
    "# Given two strings str1 and str2, return the largest string x such that x divides both str1 and str2.\n",
    "\n",
    "# Example 1:\n",
    "\n",
    "# Input: str1 = \"ABCABC\", str2 = \"ABC\"\n",
    "# Output: \"ABC\"\n",
    "# Example 2:\n",
    "\n",
    "# Input: str1 = \"ABABAB\", str2 = \"ABAB\"\n",
    "# Output: \"AB\"\n",
    "# Example 3:\n",
    "\n",
    "# Input: str1 = \"LEET\", str2 = \"CODE\"\n",
    "# Output: \"\"\n",
    " \n",
    "\n",
    "# Constraints:\n",
    "\n",
    "# 1 <= str1.length, str2.length <= 1000\n",
    "# str1 and str2 consist of English uppercase letters."
   ]
  },
  {
   "cell_type": "code",
   "execution_count": 2,
   "metadata": {},
   "outputs": [],
   "source": [
    "class Solution:\n",
    "    def gcdOfStrings(self, str1: str, str2: str) -> str:\n",
    "        i = 0\n",
    "        #write the base cases\n",
    "\n",
    "        # Case where str1 is not equal to str2\n",
    "        if (str1[0] != str2[0] or str1[-1] != str2[-1]):\n",
    "            return \"\" \n",
    "\n",
    "        # Case where str1 is equal to str2 \n",
    "        if len(str1) == len(str2):\n",
    "            return str1\n",
    "        \n",
    "        # Assignment of variables based on the length\n",
    "        if len(str1) > len(str2):\n",
    "            s = str1\n",
    "            t = str2\n",
    "        else:\n",
    "            s = str2\n",
    "            t = str1\n",
    "\n",
    "        while len(s) != len(t):  #Run till both of them are equal\n",
    "\n",
    "            if len(s) % len(t) == 0: #Check if the length of s is divisible by t\n",
    "                    \n",
    "                #str1 = \"ABCABC\", str2 = \"ABC\"\n",
    "                        #--- ---       \n",
    "                          \n",
    "                \n",
    "                if s[0:len(t)] == t and s[len(t)] == t[0] and s[-1] == t[-1]: \n",
    "                    \n",
    "                    # Check if the first and last characters are equal\n",
    "                    # also check if the first characters of the split strings are equal\n",
    "\n",
    "                    return t\n",
    "                else:\n",
    "                    return \"\"\n",
    "\n",
    "            #str1 = \"ABABAB\", str2 = \"ABAB\"\n",
    "            #           6               4\n",
    "            # 6%4 = 2 \n",
    "            # diff_len = 2 \n",
    " \n",
    "            if len(s) % len(t) != 0: #Check if the length of s is not divisible by t\n",
    "                \n",
    "                diff_len = len(s) - len(t) #Take difference of lengths\n",
    "\n",
    "                if diff_len < len(t): # Reassign the variables based on the difference of lengths\n",
    "                    s = t             # reassign target string to source string since its bigger in length\n",
    "                    t = s[0:diff_len]\n",
    "                \n",
    "                elif diff_len > len(t):\n",
    "                    if s[len(t)] != t[0]: # checking start characters of split strings is true\n",
    "                        return \"\"\n",
    "                    diff_len = diff_len % len(t)\n",
    "                    s = s[-diff_len-1:-1] # we are taking the last diff_len characters of the string"
   ]
  },
  {
   "cell_type": "code",
   "execution_count": 3,
   "metadata": {},
   "outputs": [],
   "source": [
    "solution_obj = Solution()"
   ]
  },
  {
   "cell_type": "code",
   "execution_count": 4,
   "metadata": {},
   "outputs": [
    {
     "name": "stdout",
     "output_type": "stream",
     "text": [
      "ABC\n"
     ]
    }
   ],
   "source": [
    "print(solution_obj.gcdOfStrings(\"ABCABC\", \"ABC\")) # Expected output: \"ABC\""
   ]
  },
  {
   "cell_type": "code",
   "execution_count": 6,
   "metadata": {},
   "outputs": [
    {
     "name": "stdout",
     "output_type": "stream",
     "text": [
      "ABC\n"
     ]
    }
   ],
   "source": [
    "print(solution_obj.gcdOfStrings(\"ABCABCABC\", \"ABCABC\")) # Expected output: \"ABC\""
   ]
  },
  {
   "cell_type": "code",
   "execution_count": 7,
   "metadata": {},
   "outputs": [],
   "source": [
    "# Problem Context\n",
    "\n",
    "# The goal of the gcdOfStrings method is to find the greatest common divisor (GCD) of two strings str1 and str2.\n",
    "# The GCD of two strings is the largest string X that can divide both str1 and str2 such that both strings can be formed \n",
    "# by concatenating X some number of times.\n",
    "\n",
    "# Code Explanation\n",
    "\n",
    "# class Solution:\n",
    "#     def gcdOfStrings(self, str1: str, str2: str) -> str:\n",
    "# We define a method gcdOfStrings inside the Solution class. This method takes two strings str1 and str2 as input and\n",
    "# returns a string representing their greatest common divisor.\n",
    "# Check for Valid Concatenation\n",
    "\n",
    "# if str1 + str2 != str2 + str1:\n",
    "#     return \"\"\n",
    "# First, we check if the concatenation of str1 and str2 is the same as the concatenation of str2 and str1.\n",
    "# If str1 + str2 is not equal to str2 + str1, it means that there is no common substring X that can be concatenated to \n",
    "# form both str1 and str2. Hence, we return an empty string \"\".\n",
    "# Calculate the GCD of the Lengths\n",
    "\n",
    "# from math import gcd\n",
    "# We import the gcd function from the math module to compute the greatest common divisor of two integers.\n",
    "# return str1[:gcd(len(str1), len(str2))]\n",
    "# We use the gcd function to compute the greatest common divisor of the lengths of str1 and str2.\n",
    "# We then return the substring of str1 from the beginning to the length equal to the GCD of the lengths of str1 and str2.\n",
    "# How It Works\n",
    "\n",
    "# Concatenation Check:\n",
    "\n",
    "# This check ensures that a common divisor string exists. If str1 and str2 can be formed by some common string X, then \n",
    "# their concatenations in different orders should be the same (str1 + str2 == str2 + str1).\n",
    "# GCD Calculation:\n",
    "\n",
    "# The length of the greatest common divisor string X will be the greatest common divisor of the lengths of str1 and str2.\n",
    "# We then extract the substring of this length from str1.\n",
    "# Example\n",
    "\n",
    "# Let's consider an example to illustrate:\n",
    "\n",
    "# str1 = \"ABCABC\"\n",
    "# str2 = \"ABC\"\n",
    "# Concatenation Check:\n",
    "\n",
    "# str1 + str2 results in \"ABCABCABC\".\n",
    "# str2 + str1 results in \"ABCABCABC\".\n",
    "# Since str1 + str2 is equal to str2 + str1, we proceed.\n",
    "# GCD Calculation:\n",
    "\n",
    "# Length of str1 is 6.\n",
    "# Length of str2 is 3.\n",
    "# GCD of 6 and 3 is 3.\n",
    "# Extract GCD String:\n",
    "\n",
    "# The substring of str1 from the beginning to length 3 is \"ABC\".\n",
    "# Therefore, the greatest common divisor string is \"ABC\".\n",
    "\n",
    "# Summary\n",
    "\n",
    "# This algorithm efficiently determines the greatest common divisor of two strings by leveraging properties of string \n",
    "# concatenation and the mathematical GCD function. The time complexity is O(n + m), where n and m are the lengths of \n",
    "# str1 and str2, respectively, due to the concatenation check. The space complexity is O(1) for the additional space used,\n",
    "#  aside from the input and output."
   ]
  },
  {
   "cell_type": "code",
   "execution_count": 9,
   "metadata": {},
   "outputs": [],
   "source": [
    "class optimized_solution:\n",
    "    def gcdOfStrings(self, str1: str, str2: str) -> str:\n",
    "        # Check if concatenated strings are equal or not, if not return \"\"\n",
    "        if str1 + str2 != str2 + str1:\n",
    "            return \"\"\n",
    "        # If strings are equal than return the substring from 0 to gcd of size(str1), size(str2)\n",
    "        from math import gcd\n",
    "        return str1[:gcd(len(str1), len(str2))]"
   ]
  },
  {
   "cell_type": "code",
   "execution_count": 10,
   "metadata": {},
   "outputs": [],
   "source": [
    "optimized_solution_obj = optimized_solution()"
   ]
  },
  {
   "cell_type": "code",
   "execution_count": 11,
   "metadata": {},
   "outputs": [
    {
     "name": "stdout",
     "output_type": "stream",
     "text": [
      "ABC\n"
     ]
    }
   ],
   "source": [
    "print(optimized_solution_obj.gcdOfStrings(\"ABCABC\", \"ABC\")) # Expected output: \"ABC\""
   ]
  },
  {
   "cell_type": "code",
   "execution_count": 12,
   "metadata": {},
   "outputs": [
    {
     "name": "stdout",
     "output_type": "stream",
     "text": [
      "ABC\n"
     ]
    }
   ],
   "source": [
    "print(optimized_solution_obj.gcdOfStrings(\"ABCABCABC\", \"ABCABC\")) # Expected output: \"ABC\""
   ]
  }
 ],
 "metadata": {
  "kernelspec": {
   "display_name": "Python 3",
   "language": "python",
   "name": "python3"
  },
  "language_info": {
   "codemirror_mode": {
    "name": "ipython",
    "version": 3
   },
   "file_extension": ".py",
   "mimetype": "text/x-python",
   "name": "python",
   "nbconvert_exporter": "python",
   "pygments_lexer": "ipython3",
   "version": "3.11.9"
  }
 },
 "nbformat": 4,
 "nbformat_minor": 2
}
