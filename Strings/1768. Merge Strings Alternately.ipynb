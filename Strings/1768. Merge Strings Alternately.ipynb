{
 "cells": [
  {
   "cell_type": "code",
   "execution_count": 1,
   "metadata": {},
   "outputs": [],
   "source": [
    "# You are given two strings word1 and word2. Merge the strings by adding letters in alternating order, starting with\n",
    "# word1. If a string is longer than the other, append the additional letters onto the end of the merged string.\n",
    "\n",
    "# Return the merged string.\n",
    "\n",
    "\n",
    "# Example 1:\n",
    "\n",
    "# Input: word1 = \"abc\", word2 = \"pqr\"\n",
    "# Output: \"apbqcr\"\n",
    "# Explanation: The merged string will be merged as so:\n",
    "# word1:  a   b   c\n",
    "# word2:    p   q   r\n",
    "# merged: a p b q c r\n",
    "# Example 2:\n",
    "\n",
    "# Input: word1 = \"ab\", word2 = \"pqrs\"\n",
    "# Output: \"apbqrs\"\n",
    "# Explanation: Notice that as word2 is longer, \"rs\" is appended to the end.\n",
    "# word1:  a   b \n",
    "# word2:    p   q   r   s\n",
    "# merged: a p b q   r   s\n",
    "# Example 3:\n",
    "\n",
    "# Input: word1 = \"abcd\", word2 = \"pq\"\n",
    "# Output: \"apbqcd\"\n",
    "# Explanation: Notice that as word1 is longer, \"cd\" is appended to the end.\n",
    "# word1:  a   b   c   d\n",
    "# word2:    p   q \n",
    "# merged: a p b q c   d\n",
    " \n",
    "\n",
    "# Constraints:\n",
    "\n",
    "# 1 <= word1.length, word2.length <= 100\n",
    "# word1 and word2 consist of lowercase English letters."
   ]
  },
  {
   "cell_type": "code",
   "execution_count": 2,
   "metadata": {},
   "outputs": [],
   "source": [
    "from typing import List\n",
    "\n",
    "class Solution:\n",
    "    def mergeAlternately(self, word1: str, word2: str) -> str:\n",
    "        merged = \"\"\n",
    "        if (1 <= len(word1)) & (len(word2) <= 100): # Checking the condition \n",
    "            # Unifying the character lengths in both the string variable\n",
    "            if len(word1) == len(word2):\n",
    "                pass\n",
    "            elif len(word1) > len(word2):\n",
    "                spaces_to_increment = len(word1) - len(word2)\n",
    "                word2 = word2 + \" \" * spaces_to_increment # to make changes to original word since strings are immutable\n",
    "            else:\n",
    "                spaces_to_increment = len(word2) - len(word1)\n",
    "                word1 = word1 + \" \" * spaces_to_increment\n",
    "\n",
    "            for i in range(len(word1)):\n",
    "                if word1[i] == ' ': # If a space is encountered\n",
    "                    merged += word2[i] \n",
    "                elif word2[i] == ' ': # If a space is encounteres in word2 \n",
    "                    merged += word1[i]\n",
    "                else: # If no space is encountered\n",
    "                    merged += word1[i]+word2[i]\n",
    "            return merged"
   ]
  },
  {
   "cell_type": "code",
   "execution_count": 3,
   "metadata": {},
   "outputs": [],
   "source": [
    "solution_obj = Solution()"
   ]
  },
  {
   "cell_type": "code",
   "execution_count": 4,
   "metadata": {},
   "outputs": [
    {
     "name": "stdout",
     "output_type": "stream",
     "text": [
      "apbqcr\n"
     ]
    }
   ],
   "source": [
    "print(solution_obj.mergeAlternately(\"abc\", \"pqr\"))"
   ]
  },
  {
   "cell_type": "code",
   "execution_count": 5,
   "metadata": {},
   "outputs": [
    {
     "name": "stdout",
     "output_type": "stream",
     "text": [
      "apbpqr\n"
     ]
    }
   ],
   "source": [
    "print(solution_obj.mergeAlternately(\"ab\", \"ppqr\"))"
   ]
  },
  {
   "cell_type": "code",
   "execution_count": 6,
   "metadata": {},
   "outputs": [
    {
     "name": "stdout",
     "output_type": "stream",
     "text": [
      "apbpcd\n"
     ]
    }
   ],
   "source": [
    "    print(solution_obj.mergeAlternately(\"abcd\", \"pp\"))"
   ]
  },
  {
   "cell_type": "code",
   "execution_count": 11,
   "metadata": {},
   "outputs": [
    {
     "name": "stdout",
     "output_type": "stream",
     "text": [
      "['ac', 'bd']\n"
     ]
    }
   ],
   "source": [
    "merged = []\n",
    "hex1 = \"ab\"\n",
    "hex2 = \"cde\"\n",
    "for a, b in zip(hex1, hex2): # Zip function is used to iterate over two lists simultaneously and merge them\n",
    "                             # The way it merges is by taking the first element of the first list and the\n",
    "                             # first element of the second list.\n",
    "    merged.append(a + b)\n",
    "print(merged)"
   ]
  },
  {
   "cell_type": "code",
   "execution_count": 12,
   "metadata": {},
   "outputs": [],
   "source": [
    "# Approach\n",
    "\n",
    "# Inside the class, define a method called mergeAlternately which takes two string parameters word1 and word2,\n",
    "#  and returns a string.\n",
    "\n",
    "# Create an empty list called merged to store the merged characters from word1 and word2.\n",
    "\n",
    "# Start looping to iterate over corresponding characters of word1 and word2 simultaneously.\n",
    "\n",
    "# For each pair of characters, append their concatenation to the merged list.\n",
    "\n",
    "# (in Python code) After the loop, append the remaining characters of word1 and word2 that are not covered by the loop. This is done using string slicing to get the remaining characters after the end of the shorter word.\n",
    "\n",
    "# Finally, use the join() method with an empty string \"\" as the delimiter to concatenate all the characters in the merged list into a single string.\n",
    "\n",
    "# Return the concatenated string as the result of the mergeAlternately method.\n",
    "\n",
    "# Complexity\n",
    "\n",
    "# Python Time complexity: O(m + n)\n",
    "# We iterate through all characters.\n",
    "\n",
    "# Python Space complexity: O(m + n)\n",
    "# We put all characters into the list."
   ]
  },
  {
   "cell_type": "code",
   "execution_count": 19,
   "metadata": {},
   "outputs": [],
   "source": [
    "class Optimized_Solution:\n",
    "    def mergeAlternately(self, word1: str, word2: str) -> str:\n",
    "        merged = [] # we are using a list to store the merged characters\n",
    "\n",
    "        for a, b in zip(word1, word2):\n",
    "            merged.append(a + b) # we are appending the merged characters to the list\n",
    "        \n",
    "        merged.append(word1[len(word2):]) # This will append the remaining characters of word1 to the list\n",
    "        merged.append(word2[len(word1):]) # This will append the remaining characters of word2 to the list\n",
    "\n",
    "        return \"\".join(merged) # This will join the characters in the list and return the merged string\n"
   ]
  },
  {
   "cell_type": "code",
   "execution_count": 20,
   "metadata": {},
   "outputs": [],
   "source": [
    "optimized_solution_obj = Optimized_Solution()"
   ]
  },
  {
   "cell_type": "code",
   "execution_count": 22,
   "metadata": {},
   "outputs": [
    {
     "name": "stdout",
     "output_type": "stream",
     "text": [
      "apbqcrs\n"
     ]
    }
   ],
   "source": [
    "print(optimized_solution_obj.mergeAlternately(\"abc\", \"pqrs\"))"
   ]
  },
  {
   "cell_type": "code",
   "execution_count": 25,
   "metadata": {},
   "outputs": [],
   "source": [
    "#merged.append(word1[len(word2):]) # --> This is valid since the slicing will return an\n",
    "                                   # empty string if the index is out of range"
   ]
  },
  {
   "cell_type": "code",
   "execution_count": 26,
   "metadata": {},
   "outputs": [
    {
     "name": "stdout",
     "output_type": "stream",
     "text": [
      "\n"
     ]
    }
   ],
   "source": [
    "word1 = \"short\"\n",
    "word2 = \"longerword\"\n",
    "\n",
    "# len(word2) is greater than len(word1)\n",
    "result = word1[len(word2):]\n",
    "print(result)  # This will print an empty string"
   ]
  },
  {
   "cell_type": "code",
   "execution_count": 27,
   "metadata": {},
   "outputs": [
    {
     "name": "stdout",
     "output_type": "stream",
     "text": [
      "rword\n"
     ]
    }
   ],
   "source": [
    "# len(word2) is greater than len(word1)\n",
    "result = word2[len(word1):]\n",
    "print(result)  # This will print rest of characters in word2"
   ]
  },
  {
   "cell_type": "code",
   "execution_count": null,
   "metadata": {},
   "outputs": [],
   "source": []
  }
 ],
 "metadata": {
  "kernelspec": {
   "display_name": "Python 3",
   "language": "python",
   "name": "python3"
  },
  "language_info": {
   "codemirror_mode": {
    "name": "ipython",
    "version": 3
   },
   "file_extension": ".py",
   "mimetype": "text/x-python",
   "name": "python",
   "nbconvert_exporter": "python",
   "pygments_lexer": "ipython3",
   "version": "3.11.9"
  }
 },
 "nbformat": 4,
 "nbformat_minor": 2
}
