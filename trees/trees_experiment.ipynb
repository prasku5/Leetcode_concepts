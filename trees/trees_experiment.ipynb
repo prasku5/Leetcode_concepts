{
 "cells": [
  {
   "cell_type": "code",
   "execution_count": 3,
   "metadata": {},
   "outputs": [],
   "source": [
    "# Trees in Python: An Overview\n",
    "\n",
    "# A tree is a hierarchical data structure consisting of nodes, with a single node as the root and \n",
    "# sub-nodes forming the branches. Each node in a tree contains a value and references to its children.\n",
    "# Trees are widely used in computer science for representing hierarchical data such as file systems, \n",
    "# organization structures, and databases.\n",
    "\n",
    "# Basic Tree Terminology\n",
    "# ======================\n",
    "# Root: The topmost node of the tree.\n",
    "# Parent: A node that has one or more child nodes.\n",
    "# Child: A node that has a parent node.\n",
    "# Leaf: A node with no children.\n",
    "# Subtree: A tree formed by a node and its descendants.\n",
    "# Depth: The length of the path from the root to a node.\n",
    "# Height: The length of the path from a node to the deepest leaf.\n",
    "\n",
    "# Tree Representation in Python\n",
    "# =============================\n",
    "# Here's a basic implementation of a binary tree in Python, where each node can have at most two\n",
    "# children:"
   ]
  },
  {
   "cell_type": "code",
   "execution_count": 5,
   "metadata": {},
   "outputs": [
    {
     "name": "stdout",
     "output_type": "stream",
     "text": [
      "True\n",
      "False\n",
      "[2, 3, 4, 5, 7]\n"
     ]
    }
   ],
   "source": [
    "class TreeNode:\n",
    "    def __init__(self, value):\n",
    "        self.value = value\n",
    "        self.left = None\n",
    "        self.right = None\n",
    "\n",
    "class BinaryTree:\n",
    "    def __init__(self):\n",
    "        self.root = None\n",
    "\n",
    "    def insert(self, value):\n",
    "        if self.root is None:\n",
    "            self.root = TreeNode(value)\n",
    "        else:\n",
    "            self._insert(value, self.root)\n",
    "\n",
    "    def _insert(self, value, current_node):\n",
    "        if value < current_node.value:\n",
    "            if current_node.left is None:\n",
    "                current_node.left = TreeNode(value)\n",
    "            else:\n",
    "                self._insert(value, current_node.left)\n",
    "        else:\n",
    "            if current_node.right is None:\n",
    "                current_node.right = TreeNode(value)\n",
    "            else:\n",
    "                self._insert(value, current_node.right)\n",
    "\n",
    "    def search(self, value):\n",
    "        return self._search(value, self.root)\n",
    "\n",
    "    def _search(self, value, current_node):\n",
    "        if current_node is None:\n",
    "            return False\n",
    "        elif value == current_node.value:\n",
    "            return True \n",
    "        elif value < current_node.value:\n",
    "            return self._search(value, current_node.left)\n",
    "        else:\n",
    "            return self._search(value, current_node.right)\n",
    "\n",
    "    def inorder_traversal(self, node, result=[]):\n",
    "        if node:\n",
    "            self.inorder_traversal(node.left, result)\n",
    "            result.append(node.value)\n",
    "            self.inorder_traversal(node.right, result)\n",
    "        return result\n",
    "\n",
    "# Example usage\n",
    "tree = BinaryTree()\n",
    "tree.insert(5)\n",
    "tree.insert(3)\n",
    "tree.insert(7)\n",
    "tree.insert(2)\n",
    "tree.insert(4)\n",
    "\n",
    "print(tree.search(4))  # Output: True\n",
    "print(tree.search(8))  # Output: False\n",
    "print(tree.inorder_traversal(tree.root))  # Output: [2, 3, 4, 5, 7]\n"
   ]
  },
  {
   "cell_type": "code",
   "execution_count": 11,
   "metadata": {},
   "outputs": [],
   "source": [
    "# Methods and Operations on Trees\n",
    "\n",
    "# Insert: Adds a node to the tree.\n",
    "\n",
    "# Search: Checks if a value exists in the tree.\n",
    "\n",
    "# Traversal: Visits all the nodes in a specific order.\n",
    "\n",
    "# Inorder: Left, Root, Right.\n",
    "\n",
    "# Preorder: Root, Left, Right.\n",
    "\n",
    "# Postorder: Left, Right, Root.\n",
    "\n",
    "# Level Order: Visits nodes level by level (breadth-first)."
   ]
  },
  {
   "cell_type": "code",
   "execution_count": 10,
   "metadata": {},
   "outputs": [],
   "source": [
    "# Efficiency of Trees\n",
    "# ===================\n",
    "# Binary Search Tree (BST): If balanced, BST operations (insert, search, delete) have average time\n",
    "# complexity of O(log n), where n is the number of nodes. This makes BSTs efficient for sorted data \n",
    "# operations.\n",
    "\n",
    "# Balanced Trees: Trees like AVL and Red-Black trees maintain balance, ensuring O(log n) time complexity \n",
    "# for insert, delete, and search operations.\n",
    "\n",
    "# Advanced Tree Types\n",
    "# AVL Tree: A self-balancing BST where the heights of two child subtrees of any node differ by at most \n",
    "# one.\n",
    "\n",
    "# Red-Black Tree: A self-balancing BST with an extra bit of storage per node: its color, which can be \n",
    "# either red or black. Ensures the tree remains balanced.\n",
    "\n",
    "# Why Trees Are Efficient\n",
    "# =======================\n",
    "# Hierarchy Representation: Efficiently represent hierarchical structures.\n",
    "# Dynamic Data: Suitable for dynamic data where insertions and deletions are frequent.\n",
    "# Sorted Data: BSTs allow for quick lookup, addition, and deletion of items.\n",
    "# Memory Usage: Efficient in terms of memory usage compared to hash tables for large datasets.\n",
    "\n",
    "# Conclusion\n",
    "\n",
    "# Trees are a versatile and efficient data structure for managing hierarchical data. Understanding the \n",
    "# basic operations and methods associated with trees is crucial for leveraging their benefits in various applications."
   ]
  },
  {
   "cell_type": "code",
   "execution_count": 14,
   "metadata": {},
   "outputs": [],
   "source": [
    "# Time complexity comparision of Binary search tree and normal binary search algorithm\n",
    "# ====================================================================================\n",
    "\n",
    "# Binary Search Tree\n",
    "# ------------------\n",
    "# Insert: O(log n)\n",
    "# Search: O(log n)\n",
    "# Delete: O(log n)\n",
    "\n",
    "# Normal Binary Search\n",
    "# --------------------\n",
    "# Insert: O(n)\n",
    "# Search: O(n)\n",
    "# Delete: O(n)\n",
    "\n",
    "# The time complexity of binary search tree is O(log n) which is much better than normal binary \n",
    "# search algorithm\n",
    "\n",
    "# because in binary search tree the data is stored in a sorted manner and the tree is balanced so\n",
    "#  the time complexity is O(log n) but in normal binary search algorithm the data is stored in an\n",
    "#  unsorted manner so the time complexity is O(n) which is much higher than binary search tree.\n",
    "\n",
    "# If data is sorted in normal binary search algorithm then the time complexity will be O(log n) but\n",
    "#  the data will be stored in a sorted manner so the time complexity of insert, search and delete\n",
    "#  operations will be O(n) because the data will be stored in a sorted manner so the tree will be\n",
    "#  unbalanced and the time complexity will be O(n) but in binary search tree the data is stored in\n",
    "#  a sorted manner and the tree is balanced so the time complexity of insert, search and delete\n",
    "#  operations will be O(log n).\n"
   ]
  },
  {
   "cell_type": "code",
   "execution_count": 15,
   "metadata": {},
   "outputs": [],
   "source": [
    "# To convert a list to a binary search tree (BST), you can follow these steps:\n",
    "\n",
    "# Sort the List (if it's not already sorted).\n",
    "\n",
    "# Recursively Construct the BST by finding the middle element of the list and making\n",
    "# it the root, then recursively applying the same process to the left and right halves\n",
    "# of the list.\n"
   ]
  },
  {
   "cell_type": "code",
   "execution_count": 2,
   "metadata": {},
   "outputs": [
    {
     "name": "stdout",
     "output_type": "stream",
     "text": [
      "[1, 2, 3, 4, 5, 6, 7]\n"
     ]
    }
   ],
   "source": [
    "class TreeNode:\n",
    "    def __init__(self, value=0, left=None, right=None):\n",
    "        self.value = value\n",
    "        self.left = left\n",
    "        self.right = right\n",
    "\n",
    "def sorted_list_to_bst(nums):\n",
    "    if not nums:\n",
    "        return None\n",
    "    \n",
    "    # Find the middle index\n",
    "    mid = len(nums) // 2\n",
    "    \n",
    "    # The middle element becomes the root\n",
    "    root = TreeNode(nums[mid])\n",
    "    \n",
    "    # Recursively construct the left and right subtrees\n",
    "    root.left = sorted_list_to_bst(nums[:mid])\n",
    "    root.right = sorted_list_to_bst(nums[mid+1:])\n",
    "    \n",
    "    return root\n",
    "\n",
    "# Helper function to print the tree in-order (for verification)\n",
    "def inorder_traversal(root):\n",
    "    if not root:\n",
    "        return []\n",
    "    return inorder_traversal(root.left) + [root.value] + inorder_traversal(root.right)\n",
    "\n",
    "# Example usage\n",
    "nums = [1, 2, 3, 4, 5, 6, 7]\n",
    "root = sorted_list_to_bst(nums)\n",
    "print(inorder_traversal(root))  # Should print the original sorted list\n",
    "\n",
    "\n",
    "# Explanation:\n",
    "# TreeNode Class:\n",
    "\n",
    "# A simple class to represent a node in the BST. It has attributes for the node's value \n",
    "# and pointers to the left and right child nodes.\n",
    "\n",
    "# sorted_list_to_bst Function:\n",
    "\n",
    "# This function takes a sorted list (nums) and converts it into a BST.\n",
    "# It checks if the list is empty and returns None if it is.\n",
    "# It finds the middle index of the list.\n",
    "# It creates a TreeNode with the middle element as the root.\n",
    "# It recursively constructs the left and right subtrees using the left and right halves\n",
    "#  of the list, respectively.\n",
    "# It returns the root of the BST.\n",
    "# inorder_traversal Function:\n",
    "\n",
    "# A helper function to perform an in-order traversal of the BST. This helps in verifying\n",
    "#  the structure of the tree by printing its elements in sorted order.\n",
    "# Example Usage:\n",
    "# You create a sorted list nums.\n",
    "# You call sorted_list_to_bst with nums to construct the BST.\n",
    "# You use inorder_traversal to print the elements of the tree to verify that it is \n",
    "# constructed correctly.\n",
    "# This approach ensures that the BST is height-balanced, as the middle element of the \n",
    "# list is chosen as the root at each step.\n"
   ]
  },
  {
   "cell_type": "code",
   "execution_count": 18,
   "metadata": {},
   "outputs": [],
   "source": [
    "# Pre-order Traversal (Root, Left, Right)\n",
    "# In pre-order traversal, you visit the root node first, then recursively visit the \n",
    "# left subtree, and finally, the right subtree."
   ]
  },
  {
   "cell_type": "code",
   "execution_count": 19,
   "metadata": {},
   "outputs": [],
   "source": [
    "\n",
    "# Pre-order traversal (Root, Left, Right)\n",
    "def preorder_traversal(root):\n",
    "    if not root:\n",
    "        return []\n",
    "    return [root.value] + preorder_traversal(root.left) + preorder_traversal(root.right)\n"
   ]
  },
  {
   "cell_type": "code",
   "execution_count": 23,
   "metadata": {},
   "outputs": [
    {
     "name": "stdout",
     "output_type": "stream",
     "text": [
      "Pre-order traversal: [4, 2, 1, 3, 6, 5, 7]\n"
     ]
    }
   ],
   "source": [
    "print(\"Pre-order traversal:\", preorder_traversal(root)) # [4, 2, 1, 3, 6, 5, 7]\n"
   ]
  },
  {
   "cell_type": "code",
   "execution_count": 21,
   "metadata": {},
   "outputs": [],
   "source": [
    "# Post-order Traversal (Left, Right, Root)\n",
    "# In post-order traversal, you recursively visit the left subtree first, then the right \n",
    "# subtree, and finally, the root node."
   ]
  },
  {
   "cell_type": "code",
   "execution_count": 22,
   "metadata": {},
   "outputs": [],
   "source": [
    "# Post-order traversal (Left, Right, Root)\n",
    "def postorder_traversal(root):\n",
    "    if not root:\n",
    "        return []\n",
    "    return postorder_traversal(root.left) + postorder_traversal(root.right) + [root.value]"
   ]
  },
  {
   "cell_type": "code",
   "execution_count": 25,
   "metadata": {},
   "outputs": [
    {
     "name": "stdout",
     "output_type": "stream",
     "text": [
      "Post-order traversal: [1, 3, 2, 5, 7, 6, 4]\n"
     ]
    }
   ],
   "source": [
    "print(\"Post-order traversal:\", postorder_traversal(root)) # [1, 3, 2, 5, 7, 6, 4]"
   ]
  },
  {
   "cell_type": "code",
   "execution_count": 26,
   "metadata": {},
   "outputs": [],
   "source": [
    "# Traversal Functions:\n",
    "\n",
    "# inorder_traversal: Returns a list of values from an in-order traversal (Left, Root, Right).\n",
    "# preorder_traversal: Returns a list of values from a pre-order traversal (Root, Left, Right).\n",
    "# postorder_traversal: Returns a list of values from a post-order traversal (Left, Right, Root)."
   ]
  },
  {
   "cell_type": "code",
   "execution_count": 11,
   "metadata": {},
   "outputs": [
    {
     "name": "stdout",
     "output_type": "stream",
     "text": [
      "10\n",
      "5\n",
      "7\n",
      "15\n",
      "18\n",
      "Sum of values between 7 and 15: 32\n"
     ]
    }
   ],
   "source": [
    "# Definition for a binary tree node.\n",
    "class TreeNode:\n",
    "    def __init__(self, val=0, left=None, right=None):\n",
    "        self.val = val\n",
    "        self.left = left\n",
    "        self.right = right\n",
    "\n",
    "# Helper function to build a tree from a list\n",
    "def build_tree(values):\n",
    "    if not values:\n",
    "        return None\n",
    "    root = TreeNode(values[0]) # Create the root node with the first value \n",
    "    queue = [root] # Initialize a queue with the root node \n",
    "    index = 1 # Start index at 1 to skip the root node\n",
    "    while queue and index < len(values): # Iterate over the values and build the tree\n",
    "        node = queue.pop(0) # Get the first node from the queue\n",
    "        if values[index] is not None: # Add the left child if the value is not None \n",
    "            node.left = TreeNode(values[index])  # Create a new node with the value - This will be the left child \n",
    "            queue.append(node.left) # Add the left child to the queue for further processing \n",
    "        index += 1 # Move to the next value in the list \n",
    "        if index < len(values) and values[index] is not None: # Add the right child if the value is not None \n",
    "            node.right = TreeNode(values[index]) # Create a new node with the value - This will be the right child\n",
    "            queue.append(node.right) # Add the right child to the queue for further processing \n",
    "        index += 1 # Move to the next value in the list \n",
    "    return root # Return the root of the tree \n",
    "    # all we are doing is creating a tree from a list of values. The list of values represents the level-order traversal of the tree, where None values represent missing nodes.\n",
    "    # The build_tree function constructs the tree by iterating over the values and creating nodes for each non-None value. It uses a queue to keep track of the nodes to process and their children.\n",
    "\n",
    "\n",
    "\n",
    "\n",
    "# Python3 Solution\n",
    "class Solution:\n",
    "    def rangeSumBST(self, root: TreeNode, low: int, high: int) -> int:\n",
    "        def dfs(node):\n",
    "            if not node:\n",
    "                return\n",
    "            # Print the current node value\n",
    "            print(node.val)\n",
    "            if low <= node.val <= high: # Checking the condition of the current node\n",
    "                self.total_sum += node.val\n",
    "                dfs(node.left) # Go left \n",
    "                dfs(node.right) # Go right\n",
    "            elif node.val < low:\n",
    "                dfs(node.right)\n",
    "            elif node.val > high:\n",
    "                dfs(node.left)\n",
    "\n",
    "        self.total_sum = 0 # Initialize the sum value as 0 initially\n",
    "        dfs(root)\n",
    "        return self.total_sum\n",
    "\n",
    "# Example tree construction and usage\n",
    "root_values = [10, 5, 15, 3, 7, None, 18]\n",
    "root = build_tree(root_values)\n",
    "solution = Solution() # Initialize the solution object\n",
    "result = solution.rangeSumBST(root, 7, 15) # Calculate the sum of values between 7 and 15 \n",
    "print(f\"Sum of values between 7 and 15: {result}\")\n",
    "\n",
    "\n",
    "\n",
    "# TreeNode{val: 10, left: TreeNode{val: 5, left: TreeNode{val: 3, left: None, right: None}, right: TreeNode{val: 7, left: None, right: None}}, right: TreeNode{val: 15, left: None, right: TreeNode{val: 18, left: None, right: None}}}\n",
    "# TreeNode{val: 5, left: TreeNode{val: 3, left: None, right: None}, right: TreeNode{val: 7, left: None, right: None}}\n",
    "# TreeNode{val: 7, left: None, right: None}\n",
    "# TreeNode{val: 15, left: None, right: TreeNode{val: 18, left: None, right: None}}\n",
    "# TreeNode{val: 18, left: None, right: None}"
   ]
  }
 ],
 "metadata": {
  "kernelspec": {
   "display_name": "Python 3",
   "language": "python",
   "name": "python3"
  },
  "language_info": {
   "codemirror_mode": {
    "name": "ipython",
    "version": 3
   },
   "file_extension": ".py",
   "mimetype": "text/x-python",
   "name": "python",
   "nbconvert_exporter": "python",
   "pygments_lexer": "ipython3",
   "version": "3.9.6"
  }
 },
 "nbformat": 4,
 "nbformat_minor": 2
}
