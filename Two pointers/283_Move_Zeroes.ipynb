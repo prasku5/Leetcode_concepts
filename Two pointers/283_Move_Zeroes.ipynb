{
 "cells": [
  {
   "cell_type": "code",
   "execution_count": 23,
   "metadata": {},
   "outputs": [],
   "source": [
    "# Given an integer array nums, move all 0's to the end of it while maintaining the relative order of the non-zero elements.\n",
    "\n",
    "# Note that you must do this in-place without making a copy of the array.\n",
    "# Example 1:\n",
    "\n",
    "# Input: nums = [0,1,0,3,12]\n",
    "# Output: [1,3,12,0,0]\n",
    "# Example 2:\n",
    "\n",
    "# Input: nums = [0]\n",
    "# Output: [0]\n",
    "\n",
    "# Constraints: \n",
    "\n",
    "# 1 <= nums.length <= 104\n",
    "# -231 <= nums[i] <= 231 - 1\n",
    " \n",
    "\n",
    "# Follow up: Could you minimize the total number of operations done?"
   ]
  },
  {
   "cell_type": "markdown",
   "metadata": {
    "vscode": {
     "languageId": "raw"
    }
   },
   "source": [
    "## Solution"
   ]
  },
  {
   "cell_type": "code",
   "execution_count": 24,
   "metadata": {},
   "outputs": [],
   "source": [
    "# Thumb rule: We will use single for loop to accomplish this --> 0(n) complexity\n",
    "\n",
    "# 1) we will only increment left pointer when right pointer encounters non zero element\n",
    "# 2) we will swap both left and right pointer elements\n",
    "# 3) we will continue iterating right pointer untill we come across another non zero element\n",
    "# --------------------------------------------------------------------------------------------\n",
    "\n",
    "# [0,1,0,3,12] ---> we will initialize left and right pointers at the same location.\n",
    "# L\n",
    "# R\n",
    "# --------------------------------------------------------------------------------------------\n",
    "\n",
    "# [0,1,0,3,12]\n",
    "# L     \n",
    "#    R ---------> Since R encountered first non null value\n",
    "# --------------------------------------------------------------------------------------------\n",
    "# [1,0,0,3,12]\n",
    "#    L ---------> SWAP + Moved the left pointer\n",
    "#    R\n",
    "# --------------------------------------------------------------------------------------------\n",
    "\n",
    "# [1,0,0,3,12]\n",
    "#    L\n",
    "#    R -------> It iterates will it encounters next non null value\n",
    "# --------------------------------------------------------------------------------------------\n",
    "\n",
    "# [1,0,0,3,12]\n",
    "#    L\n",
    "#       R -----> It encountered non null value\n",
    "# --------------------------------------------------------------------------------------------\n",
    "\n",
    "# [1,3,0,0,12] \n",
    "#    L\n",
    "#       R -----> SWAP + Moved the left pointer\n",
    "# --------------------------------------------------------------------------------------------\n",
    "\n",
    "# [1,3,0,0,12] \n",
    "#    L\n",
    "#          R -----> It encountered non null value\n",
    "# --------------------------------------------------------------------------------------------\n",
    "\n",
    "# [1,3,12,0,0] \n",
    "#       L\n",
    "#          R -----> SWAP + Moved the left pointer\n",
    "# --------------------------------------------------------------------------------------------\n"
   ]
  },
  {
   "cell_type": "code",
   "execution_count": 25,
   "metadata": {},
   "outputs": [],
   "source": [
    "from typing import List\n",
    "\n",
    "class Solution:\n",
    "    def moveZeroes(self, nums: List[int]) -> None:\n",
    "\n",
    "        left = 0 # we will initialize the left pointer during the start.\n",
    "\n",
    "        for right in range(len(nums)): # we will iterate through the list for the right pointer.\n",
    "            if nums[right] != 0:  #If the current element is not zero then move the left pointer to right.\n",
    "                nums[right], nums[left] = nums[left], nums[right] #Swapping two numbers.\n",
    "                left += 1 #we will move the left pointer.\n",
    "        \n",
    "        return nums # we are returning the same list after moving all the zeros to the end.\n",
    "        \n",
    "moveZeros_obj = Solution()"
   ]
  },
  {
   "cell_type": "code",
   "execution_count": 26,
   "metadata": {},
   "outputs": [
    {
     "name": "stdout",
     "output_type": "stream",
     "text": [
      "[1, 3, 12, 0, 0]\n"
     ]
    }
   ],
   "source": [
    "print(moveZeros_obj.moveZeroes([0,1,0,3,12])) #Output: [1,3,12,0,0]"
   ]
  },
  {
   "cell_type": "code",
   "execution_count": 27,
   "metadata": {},
   "outputs": [
    {
     "name": "stdout",
     "output_type": "stream",
     "text": [
      "[3, 12, 0, 0, 0]\n"
     ]
    }
   ],
   "source": [
    "print(moveZeros_obj.moveZeroes([0,0,0,3,12])) #Output: [1,3,12,0,0]"
   ]
  },
  {
   "cell_type": "code",
   "execution_count": 28,
   "metadata": {},
   "outputs": [
    {
     "name": "stdout",
     "output_type": "stream",
     "text": [
      "[0]\n"
     ]
    }
   ],
   "source": [
    "print(moveZeros_obj.moveZeroes([0])) #Output: [0]"
   ]
  },
  {
   "cell_type": "code",
   "execution_count": 29,
   "metadata": {},
   "outputs": [
    {
     "name": "stdout",
     "output_type": "stream",
     "text": [
      "[1, 0]\n"
     ]
    }
   ],
   "source": [
    "print(moveZeros_obj.moveZeroes([0,1])) #Output: [1,0]"
   ]
  }
 ],
 "metadata": {
  "kernelspec": {
   "display_name": "Python 3",
   "language": "python",
   "name": "python3"
  },
  "language_info": {
   "codemirror_mode": {
    "name": "ipython",
    "version": 3
   },
   "file_extension": ".py",
   "mimetype": "text/x-python",
   "name": "python",
   "nbconvert_exporter": "python",
   "pygments_lexer": "ipython3",
   "version": "3.11.9"
  }
 },
 "nbformat": 4,
 "nbformat_minor": 2
}
