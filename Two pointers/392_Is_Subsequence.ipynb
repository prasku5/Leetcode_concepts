{
 "cells": [
  {
   "cell_type": "code",
   "execution_count": 11,
   "metadata": {},
   "outputs": [],
   "source": [
    "# Given two strings s and t, return true if s is a subsequence of t, or false otherwise.\n",
    "\n",
    "# A subsequence of a string is a new string that is formed from the original string by deleting some (can be none)\n",
    "# of the characters without disturbing the relative positions of the remaining characters. (i.e., \"ace\" is a subsequence\n",
    "# of \"abcde\" while \"aec\" is not). \n",
    "\n",
    "# Example 1:\n",
    "\n",
    "# Input: s = \"abc\", t = \"ahbgdc\"\n",
    "# Output: true\n",
    "# Example 2:\n",
    "\n",
    "# Input: s = \"axc\", t = \"ahbgdc\"\n",
    "# Output: false\n",
    " \n",
    "\n",
    "# Constraints:\n",
    "\n",
    "# 0 <= s.length <= 100\n",
    "# 0 <= t.length <= 104\n",
    "# s and t consist only of lowercase English letters.\n",
    " \n",
    "\n",
    "# Follow up: Suppose there are lots of incoming s, say s1, s2, ..., sk where k >= 109, and you want to check one by one\n",
    "# to see if t has its subsequence. In this scenario, how would you change your code?"
   ]
  },
  {
   "cell_type": "code",
   "execution_count": 9,
   "metadata": {},
   "outputs": [],
   "source": [
    "# Approach\n",
    "\n",
    "# How I think about a solution :\n",
    "\n",
    "# Simply, all we have to do is just to count characters for each string s and t and check if t has all characters of s,\n",
    "#  but problem is there is an order to find the characters.\n",
    "\n",
    "# Input: s = \"abc\", t = \"ahbgdc\"\n",
    "# In this case, we need to find a in t at first. The next character we must find is b at the position after a, the last\n",
    "#  character is c at the position after b. That is kind of a challenging part of this question. It might be tough to use\n",
    "#  simple HashMap or Set because they don't have order of data.\n",
    "\n",
    "# That's why I just started thinking it with a very simple example like this.\n",
    "\n",
    "# Input: s = \"abc\", t = \"abc\"\n",
    "# In this case, if we check each character one by one in the both strings from beginning, we can return true and this\n",
    "#  simple example gave me a hint to solve this question.\n",
    "\n",
    "# I realized that if I have the same index number as length of s after I iterate though all characters, I can prove that \n",
    "# I have subsequence in t.\n",
    "\n",
    "# To prove that, I also check a simple false case like this.\n",
    "\n",
    "# Input: s = \"abc\", t = \"abd\"\n",
    "# In this case, when I iterate thorugh both strings from beginning, I stopped at index 2 in s which means I didn't find \n",
    "# the last character c in t, so this is a false case because index number for s(2) is not equal to length of s(3). I\n",
    "#  couldn't get to the last position of s.\n",
    "\n",
    "# The last position means the last index number + 1 because index usually starts from 0 and counting length of string\n",
    "#  starts from 1.\n",
    "\n",
    "# From my thought process above, I tried to iterate thorough both strings from beginning at the same time.\n",
    "\n",
    "# Let's recap what I said with this example.\n",
    "\n",
    "# Input: s = \"abc\", t = \"ahbgdc\"\n",
    "# target: a\n",
    "# s index: 0\n",
    "# t index: 0\n",
    "# The first target is a. Luckily, the first character of t is also a.\n",
    "\n",
    "# found: a\n",
    "# Now I can think inputs like this Input: s = \"bc\", t = \"hbgdc\"\n",
    "\n",
    "# after the above,\n",
    "\n",
    "# s index: 1\n",
    "# t index: 1\n",
    "# Then, the next target is b but the next character of t is h, so now\n",
    "\n",
    "# target: b\n",
    "\n",
    "# found: a\n",
    "# Now I can think inputs like this Input: s = \"bc\", t = \"bgdc\"\n",
    "\n",
    "# after the above,\n",
    "\n",
    "# s index: 1\n",
    "# t index: 2\n",
    "# The next character of t is b, I found b in t.\n",
    "\n",
    "# target: b\n",
    "\n",
    "# found: ab\n",
    "# Now I can think inputs like this Input: s = \"c\", t = \"gdc\"\n",
    "\n",
    "# after the above,\n",
    "\n",
    "# s index: 2\n",
    "# t index: 3\n",
    "# The next and next next character in t are g and d, so just increment t index from 3 to 5.\n",
    "\n",
    "# Finally, I reached the last character in t and found c\n",
    "\n",
    "# target: c\n",
    "\n",
    "# found abc\n",
    "# Now I can think inputs like this Input: s = \"\", t = \"\"\n",
    "\n",
    "# after the above,\n",
    "\n",
    "# s index: 3\n",
    "# t index: 6\n",
    "# After the process, all I have to do is just to check if s index(3) is equal to length of s(3).\n",
    "\n",
    "# Output: true\n",
    "# That's how I think about my solution. Let's see a real algorithm below.\n",
    "\n",
    "# Algorithm Overview:\n",
    "\n",
    "# Initialize two pointers, sp and tp, to 0 to represent the starting positions of the strings s and t respectively.\n",
    "# Iterate through the characters of both strings s and t, comparing characters at the corresponding positions.\n",
    "# If a matching character is found, move the pointer in s forward.\n",
    "# Always move the pointer in t forward.\n",
    "# Check if all characters in s have been matched in t.\n",
    "# Return True if s is a subsequence of t, False otherwise.\n",
    "\n",
    "# Detailed Explanation:\n",
    "#=====================\n",
    "# Set sp and tp to 0, indicating the starting positions of s and t respectively.\n",
    "\n",
    "# Iterate through the characters of s and t using a while loop until either all characters in s have been matched or we\n",
    "#  reach the end of t.\n",
    "\n",
    "# a. Check if the characters at sp in s and tp in t are equal.\n",
    "\n",
    "# b. If they are equal, increment sp to move to the next character in s.\n",
    "\n",
    "# c. Always increment tp to move forward in t.\n",
    "\n",
    "# After the loop, check if all characters in s have been matched. If sp is equal to the length of s, then s is a\n",
    "#  subsequence of t.\n",
    "\n",
    "# a. Return True if s is a subsequence of t.\n",
    "\n",
    "# b. Return False if s is not a subsequence of t."
   ]
  },
  {
   "cell_type": "code",
   "execution_count": 10,
   "metadata": {},
   "outputs": [],
   "source": [
    "# Input: s = \"abc\", t = \"ahbgdc\"\n",
    "class Solution:\n",
    "    def isSubsequence(self, s: str, t: str) -> bool:\n",
    "        if 0 <= len(s) <= 100 and 0 <= len(t) <= 10**4 and s.islower():\n",
    "        \n",
    "            sp = tp = 0 # Setting both the pointers equal to '0'\n",
    "\n",
    "        while sp < len(s) and tp < len(t):\n",
    "            if s[sp] == t[tp]:\n",
    "                sp += 1 # Move the 's' string pointer to next place if both chars are equal in both strings \n",
    "            tp += 1  # Move the 't' string pointer to its next place if both chars are not equal\n",
    "\n",
    "            # if both the chars are equal notice we are moving both the pointers to next place\n",
    "\n",
    "        return sp == len(s) #If 's' string pointer equal to length of original s then its subsequence is found."
   ]
  },
  {
   "cell_type": "code",
   "execution_count": 6,
   "metadata": {},
   "outputs": [],
   "source": [
    "solution = Solution()"
   ]
  },
  {
   "cell_type": "code",
   "execution_count": 7,
   "metadata": {},
   "outputs": [
    {
     "name": "stdout",
     "output_type": "stream",
     "text": [
      "True\n"
     ]
    }
   ],
   "source": [
    "print(solution.isSubsequence(\"abc\", \"ahbgdc\")) # Output: True"
   ]
  },
  {
   "cell_type": "code",
   "execution_count": 8,
   "metadata": {},
   "outputs": [
    {
     "name": "stdout",
     "output_type": "stream",
     "text": [
      "False\n"
     ]
    }
   ],
   "source": [
    "print(solution.isSubsequence(\"axc\", \"ahbgdc\")) # Output: False"
   ]
  }
 ],
 "metadata": {
  "kernelspec": {
   "display_name": "Python 3",
   "language": "python",
   "name": "python3"
  },
  "language_info": {
   "codemirror_mode": {
    "name": "ipython",
    "version": 3
   },
   "file_extension": ".py",
   "mimetype": "text/x-python",
   "name": "python",
   "nbconvert_exporter": "python",
   "pygments_lexer": "ipython3",
   "version": "3.11.9"
  }
 },
 "nbformat": 4,
 "nbformat_minor": 2
}
