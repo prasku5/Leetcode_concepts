{
 "cells": [
  {
   "cell_type": "code",
   "execution_count": 1,
   "metadata": {},
   "outputs": [],
   "source": [
    "# 1679. Max Number of K-Sum Pairs\n",
    "# Solved\n",
    "# Medium\n",
    "\n",
    "# Topics\n",
    "# Companies\n",
    "\n",
    "# Hint\n",
    "# You are given an integer array nums and an integer k.\n",
    "\n",
    "# In one operation, you can pick two numbers from the array whose sum equals k and remove them from the array.\n",
    "\n",
    "# Return the maximum number of operations you can perform on the array.\n",
    "\n",
    " \n",
    "\n",
    "# Example 1:\n",
    "\n",
    "# Input: nums = [1,2,3,4], k = 5\n",
    "# Output: 2\n",
    "# Explanation: Starting with nums = [1,2,3,4]:\n",
    "# - Remove numbers 1 and 4, then nums = [2,3]\n",
    "# - Remove numbers 2 and 3, then nums = []\n",
    "# There are no more pairs that sum up to 5, hence a total of 2 operations.\n",
    "# Example 2:\n",
    "\n",
    "# Input: nums = [3,1,3,4,3], k = 6\n",
    "# Output: 1\n",
    "# Explanation: Starting with nums = [3,1,3,4,3]:\n",
    "# - Remove the first two 3's, then nums = [1,4,3]\n",
    "# There are no more pairs that sum up to 6, hence a total of 1 operation.\n",
    " \n",
    "\n",
    "# Constraints:\n",
    "\n",
    "# 1 <= nums.length <= 105\n",
    "# 1 <= nums[i] <= 109\n",
    "# 1 <= k <= 109"
   ]
  },
  {
   "cell_type": "code",
   "execution_count": 2,
   "metadata": {},
   "outputs": [],
   "source": [
    "from typing import List\n",
    "\n",
    "class Solution:\n",
    "    def maxOperations(self, nums: List[int], k: int) -> int:\n",
    "        nums.sort()  # Sort the array first\n",
    "        l = 0  # Initialize left pointer\n",
    "        r = len(nums) - 1  # Initialize right pointer\n",
    "        success_operations = 0\n",
    "\n",
    "        while l < r:\n",
    "            if nums[l] + nums[r] == k:\n",
    "                success_operations += 1  # Found a pair\n",
    "                l += 1  # Move left pointer to the right\n",
    "                r -= 1  # Move right pointer to the left\n",
    "            elif nums[l] + nums[r] < k:\n",
    "                l += 1  # Increase sum by moving left pointer to the right\n",
    "            else:\n",
    "                r -= 1  # Decrease sum by moving right pointer to the left\n",
    "\n",
    "        return success_operations"
   ]
  },
  {
   "cell_type": "code",
   "execution_count": 3,
   "metadata": {},
   "outputs": [],
   "source": [
    "solution_obj = Solution()"
   ]
  },
  {
   "cell_type": "code",
   "execution_count": 4,
   "metadata": {},
   "outputs": [
    {
     "name": "stdout",
     "output_type": "stream",
     "text": [
      "2\n"
     ]
    }
   ],
   "source": [
    "print(solution_obj.maxOperations([1,2,3,4], 5))"
   ]
  },
  {
   "cell_type": "code",
   "execution_count": 5,
   "metadata": {},
   "outputs": [
    {
     "name": "stdout",
     "output_type": "stream",
     "text": [
      "1\n"
     ]
    }
   ],
   "source": [
    "print(solution_obj.maxOperations([3,1,3,4,3], 5))"
   ]
  }
 ],
 "metadata": {
  "kernelspec": {
   "display_name": "Python 3",
   "language": "python",
   "name": "python3"
  },
  "language_info": {
   "codemirror_mode": {
    "name": "ipython",
    "version": 3
   },
   "file_extension": ".py",
   "mimetype": "text/x-python",
   "name": "python",
   "nbconvert_exporter": "python",
   "pygments_lexer": "ipython3",
   "version": "3.11.9"
  }
 },
 "nbformat": 4,
 "nbformat_minor": 2
}
