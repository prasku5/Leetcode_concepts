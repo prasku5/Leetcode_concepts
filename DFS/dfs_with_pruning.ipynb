{
 "cells": [
  {
   "cell_type": "code",
   "execution_count": 2,
   "metadata": {},
   "outputs": [
    {
     "name": "stdout",
     "output_type": "stream",
     "text": [
      "Visited: {'Admin'}\n",
      "Permissions: {'delete_user'}\n",
      "Visited: {'Manager', 'Admin'}\n",
      "Permissions: {'approve_request'}\n",
      "Visited: {'Manager', 'Employee', 'Admin'}\n",
      "Permissions: {'read_document', 'write_document'}\n",
      "Permissions: {'approve_request', 'read_document', 'write_document'}\n",
      "Permissions: {'delete_user', 'approve_request', 'read_document', 'write_document'}\n",
      "Admin Permissions: {'delete_user', 'approve_request', 'read_document', 'write_document'}\n"
     ]
    }
   ],
   "source": [
    "class Role:\n",
    "    def __init__(self, name, permissions, inherited_roles=None):\n",
    "        # Initialize a Role object with a name, a set of permissions, and a list of inherited roles.\n",
    "        self.name = name\n",
    "        self.permissions = set(permissions)  # Convert the permissions list to a set for faster lookup and to avoid duplicates.\n",
    "        self.inherited_roles = inherited_roles if inherited_roles else []  # Set inherited roles to an empty list if not provided.\n",
    "\n",
    "# Define roles and inheritance\n",
    "# Create an Employee role with permissions to read and write documents.\n",
    "employee = Role(\"Employee\", [\"read_document\", \"write_document\"])\n",
    "# Create a Manager role with permission to approve requests, inheriting permissions from the Employee role.\n",
    "manager = Role(\"Manager\", [\"approve_request\"], [employee])\n",
    "# Create an Admin role with permission to delete users, inheriting permissions from the Manager role.\n",
    "admin = Role(\"Admin\", [\"delete_user\"], [manager])\n",
    "\n",
    "def get_permissions(role, visited=None):\n",
    "    # If visited is not provided, initialize it as an empty set.\n",
    "    if visited is None:\n",
    "        visited = set()\n",
    "    \n",
    "    # Pruning: Check if the role has already been visited to avoid redundant processing.\n",
    "    if role.name in visited:\n",
    "        return set()  # Return an empty set if the role has already been visited.\n",
    "    \n",
    "    # Mark the current role as visited by adding its name to the visited set.\n",
    "    visited.add(role.name)\n",
    "    print(\"Visited:\", visited)\n",
    "    \n",
    "    # Start with the role's own permissions.\n",
    "    permissions = set(role.permissions)\n",
    "    print(\"Permissions:\", permissions)\n",
    "    \n",
    "    # Traverse inherited roles to gather permissions from them.\n",
    "    for inherited_role in role.inherited_roles:\n",
    "        # Recursively call get_permissions on each inherited role to gather and update permissions.\n",
    "        permissions.update(get_permissions(inherited_role, visited))\n",
    "        print(\"Permissions:\", permissions)\n",
    "    \n",
    "    return permissions  # Return the accumulated set of permissions for the given role.\n",
    "\n",
    "# Example usage\n",
    "# Calculate all permissions for the Admin role, considering its inherited roles.\n",
    "admin_permissions = get_permissions(admin)\n",
    "# Print the complete set of permissions for the Admin role.\n",
    "print(\"Admin Permissions:\", admin_permissions)"
   ]
  },
  {
   "cell_type": "markdown",
   "metadata": {},
   "source": [
    "## Example Code for Multi-Inheritance Pruning\n"
   ]
  },
  {
   "cell_type": "code",
   "execution_count": 5,
   "metadata": {},
   "outputs": [
    {
     "name": "stdout",
     "output_type": "stream",
     "text": [
      "Visited: {'Admin'}\n",
      "Permissions: {'delete_user'}\n",
      "Visited: {'Manager', 'Admin'}\n",
      "Permissions: {'approve_request'}\n",
      "Visited: {'Manager', 'Employee', 'Admin'}\n",
      "Permissions: {'read_document', 'write_document'}\n",
      "Permissions: {'approve_request', 'read_document', 'write_document'}\n",
      "Permissions: {'delete_user', 'approve_request', 'read_document', 'write_document'}\n",
      "Visited: {'Manager', 'SpecialAdmin', 'Employee', 'Admin'}\n",
      "Permissions: {'special_permission'}\n",
      "Permissions: {'special_permission'}\n",
      "Permissions: {'read_document', 'write_document', 'special_permission', 'delete_user', 'approve_request'}\n",
      "Admin Permissions: {'read_document', 'write_document', 'special_permission', 'delete_user', 'approve_request'}\n"
     ]
    }
   ],
   "source": [
    "class Role:\n",
    "    def __init__(self, name, permissions, inherited_roles=None):\n",
    "        self.name = name\n",
    "        self.permissions = set(permissions)\n",
    "        self.inherited_roles = inherited_roles if inherited_roles else []\n",
    "\n",
    "# Define roles with multiple inheritance\n",
    "employee = Role(\"Employee\", [\"read_document\", \"write_document\"])\n",
    "manager = Role(\"Manager\", [\"approve_request\"], [employee])\n",
    "special_admin = Role(\"SpecialAdmin\", [\"special_permission\"], [employee])\n",
    "admin = Role(\"Admin\", [\"delete_user\"], [manager, special_admin])\n",
    "\n",
    "def get_permissions(role, visited=None):\n",
    "    if visited is None:\n",
    "        visited = set()\n",
    "    \n",
    "    if role.name in visited:\n",
    "        return set()\n",
    "    \n",
    "    visited.add(role.name)\n",
    "    print(\"Visited:\", visited)\n",
    "    \n",
    "    permissions = set(role.permissions)\n",
    "    print(\"Permissions:\", permissions)\n",
    "    \n",
    "    for inherited_role in role.inherited_roles:\n",
    "        permissions.update(get_permissions(inherited_role, visited))\n",
    "        print(\"Permissions:\", permissions)\n",
    "    \n",
    "    return permissions\n",
    "\n",
    "# Calculate permissions for Admin role with multi-inheritance\n",
    "admin_permissions = get_permissions(admin)\n",
    "print(\"Admin Permissions:\", admin_permissions)"
   ]
  }
 ],
 "metadata": {
  "kernelspec": {
   "display_name": "Python 3",
   "language": "python",
   "name": "python3"
  },
  "language_info": {
   "codemirror_mode": {
    "name": "ipython",
    "version": 3
   },
   "file_extension": ".py",
   "mimetype": "text/x-python",
   "name": "python",
   "nbconvert_exporter": "python",
   "pygments_lexer": "ipython3",
   "version": "3.9.6"
  }
 },
 "nbformat": 4,
 "nbformat_minor": 2
}
