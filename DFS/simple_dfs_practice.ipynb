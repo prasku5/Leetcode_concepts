{
 "cells": [
  {
   "cell_type": "markdown",
   "metadata": {},
   "source": [
    "# Depth-First Search (DFS) Techniques and Use Cases\n",
    "\n",
    "## 1. Simple Graph Traversal\n",
    "\n",
    "**Scenario:** \n",
    "Traversing a graph to visit all nodes.\n",
    "\n",
    "**Example:** \n",
    "Given a graph, visit all nodes starting from a specific node.\n",
    "\n",
    "**Trick:** \n",
    "Use a stack (either explicitly or through recursion) to keep track of nodes to explore.\n",
    "\n",
    "**Explanation:**\n",
    "DFS explores as deep as possible along each branch before backtracking. This is useful in scenarios where you need to explore all possible paths or solutions."
   ]
  },
  {
   "cell_type": "code",
   "execution_count": 1,
   "metadata": {},
   "outputs": [],
   "source": [
    "# Example Graph\n",
    "# Consider the following graph:\n",
    "\n",
    "#    A\n",
    "#    / \\\n",
    "#   B   C\n",
    "#  / \\\n",
    "# D   E"
   ]
  },
  {
   "cell_type": "markdown",
   "metadata": {},
   "source": [
    "## Detailed Walkthrough\n",
    "\n",
    "**Visit Node A:**\n",
    "- **Visited:** `{A}`\n",
    "- **Print:** `A`\n",
    "- **Neighbors:** `B` and `C`\n",
    "- **Action:** Explore `B`.\n",
    "\n",
    "**Visit Node B (recursive call from A):**\n",
    "- **Visited:** `{A, B}`\n",
    "- **Print:** `B`\n",
    "- **Neighbors:** `A`, `D`, `E`\n",
    "- **Action:** Explore `D` (A is already visited).\n",
    "\n",
    "**Visit Node D (recursive call from B):**\n",
    "- **Visited:** `{A, B, D}`\n",
    "- **Print:** `D`\n",
    "- **Neighbors:** `B`\n",
    "- **Action:** `B` is already visited, backtrack to `B`.\n",
    "\n",
    "**Backtrack to Node B:**\n",
    "- **Action:** Continue to explore remaining neighbors of `B`.\n",
    "- **Action:** Explore `E` (D is already visited).\n",
    "\n",
    "**Visit Node E (recursive call from B):**\n",
    "- **Visited:** `{A, B, D, E}`\n",
    "- **Print:** `E`\n",
    "- **Neighbors:** `B`\n",
    "- **Action:** `B` is already visited, backtrack to `B`, then to `A`.\n",
    "\n",
    "**Backtrack to Node A:**\n",
    "- **Action:** Continue to explore remaining neighbors of `A`.\n",
    "- **Action:** Explore `C` (B is already visited).\n",
    "\n",
    "**Visit Node C (recursive call from A):**\n",
    "- **Visited:** `{A, B, D, E, C}`\n",
    "- **Print:** `C`\n",
    "- **Neighbors:** `A`\n",
    "- **Action:** `A` is already visited, no more neighbors to explore.\n",
    "\n",
    "## Summary\n",
    "\n",
    "- **Recursion Stack:** Each recursive call adds a new frame to the call stack. When a node has no unvisited neighbors, the function returns to the previous frame (backtracks) and continues exploring.\n",
    "- **Backtracking:** DFS explores deeply before backtracking to explore other branches.\n",
    "- **Visited Set:** Keeps track of nodes that have already been processed to avoid revisits.\n",
    "\n",
    "By using this mechanism, DFS explores as deeply as possible before backtracking to explore other branches.\n"
   ]
  },
  {
   "cell_type": "code",
   "execution_count": 8,
   "metadata": {},
   "outputs": [],
   "source": [
    "def dfs(graph, start, visited=None):\n",
    "    if visited is None:\n",
    "        visited = set()\n",
    "    visited.add(start)\n",
    "    for neighbor in graph[start]:\n",
    "        if neighbor not in visited:\n",
    "            dfs(graph, neighbor, visited)\n",
    "    return visited"
   ]
  },
  {
   "cell_type": "code",
   "execution_count": 3,
   "metadata": {},
   "outputs": [
    {
     "name": "stdout",
     "output_type": "stream",
     "text": [
      "DFS traversal:\n",
      "A B D E C "
     ]
    }
   ],
   "source": [
    "# Define the graph using an adjacency list\n",
    "graph = {\n",
    "    'A': ['B', 'C'],         # current node: A, neighbors: B, C\n",
    "    'B': ['A', 'D', 'E'],    # current node: B, neighbors: A, D, E    #Parent Node of B is A  # child nodes of B are D and E \n",
    "    'C': ['A'],              # current node: C, neighbors: A\n",
    "    'D': ['B'],              # current node: D, neighbors: B\n",
    "    'E': ['B']               # current node: E, neighbors: B\n",
    "}\n",
    "\n",
    "# Initally \n",
    "def dfs(graph, start, visited=None): # The input parameters are the graph, the starting node (root node), and a set to keep track of visited nodes\n",
    "    if visited is None: # If no set is provided, create a new\n",
    "        visited = set()\n",
    "    visited.add(start) # Add the current node to the visited set\n",
    "    print(start, end=' ') # Print the current node and end with a space\n",
    "\n",
    "    # graph is a dictionary where the key is the current node and the value is a list of neighbors of the current node\n",
    "\n",
    "    for neighbor in graph[start]: # For each neighbor of the current node. Here graph[start] returns a list of neighbors of the current node\n",
    "        if neighbor not in visited:\n",
    "            dfs(graph, neighbor, visited) # At each stage if the neighbor is not visited, perform DFS on the neighbor\n",
    "\n",
    "# Perform DFS starting from node 'A'\n",
    "print(\"DFS traversal:\")\n",
    "dfs(graph, 'A')"
   ]
  },
  {
   "cell_type": "markdown",
   "metadata": {},
   "source": [
    "## Path Finding\n",
    "\n",
    "### Scenario:\n",
    "Find a path between two nodes in a graph.\n",
    "\n",
    "### Example:\n",
    "Check if there's a path from node A to node B.\n",
    "\n",
    "### Trick:\n",
    "Track the path using an auxiliary list or stack.\n",
    "\n",
    "### Explanation:\n",
    "DFS can be adapted to track paths. This is useful in puzzles, mazes, and real-world scenarios like network routing.\n",
    "\n",
    "### Implementation:\n",
    "\n",
    "Here's how you can implement a DFS to find a path between two nodes:"
   ]
  },
  {
   "cell_type": "code",
   "execution_count": 6,
   "metadata": {},
   "outputs": [],
   "source": [
    "def dfs_path(graph, start, end, path=None):\n",
    "    if path is None:\n",
    "        path = []\n",
    "    path.append(start)\n",
    "    if start == end:\n",
    "        return path\n",
    "    for neighbor in graph[start]:\n",
    "        if neighbor not in path:\n",
    "            new_path = dfs_path(graph, neighbor, end, path.copy())\n",
    "            if new_path:\n",
    "                return new_path\n",
    "    return None\n"
   ]
  },
  {
   "cell_type": "markdown",
   "metadata": {},
   "source": [
    "## Cycle Detection\n",
    "\n",
    "### Scenario:\n",
    "Detect cycles in a graph.\n",
    "\n",
    "### Example:\n",
    "Determine if a graph contains a cycle.\n",
    "\n",
    "### Trick:\n",
    "Use a set to keep track of visited nodes and the recursion stack to detect cycles.\n",
    "\n",
    "### Explanation:\n",
    "DFS is often used to detect cycles in directed and undirected graphs. This can be applied to tasks like finding loops in workflows or dependency graphs.\n",
    "\n",
    "### Implementation:\n",
    "\n",
    "Here's how you can implement a DFS-based cycle detection:\n",
    "\n",
    "#### For Directed Graphs:\n",
    "\n",
    "In a directed graph, a cycle exists if there is a back edge in the DFS traversal."
   ]
  },
  {
   "cell_type": "code",
   "execution_count": 9,
   "metadata": {},
   "outputs": [],
   "source": [
    "def has_cycle_directed(graph):\n",
    "    def visit(node):\n",
    "        if node in rec_stack:\n",
    "            return True\n",
    "        if node in visited:\n",
    "            return False\n",
    "        \n",
    "        visited.add(node)\n",
    "        rec_stack.add(node)\n",
    "        \n",
    "        for neighbor in graph[node]:\n",
    "            if visit(neighbor):\n",
    "                return True\n",
    "        \n",
    "        rec_stack.remove(node)\n",
    "        return False\n",
    "    \n",
    "    visited = set()\n",
    "    rec_stack = set()\n",
    "    \n",
    "    for node in graph:\n",
    "        if node not in visited:\n",
    "            if visit(node):\n",
    "                return True\n",
    "    \n",
    "    return False"
   ]
  },
  {
   "cell_type": "code",
   "execution_count": 10,
   "metadata": {},
   "outputs": [],
   "source": [
    "# For undirected graphs\n",
    "def has_cycle_undirected(graph):\n",
    "    def visit(node, parent):\n",
    "        visited.add(node)\n",
    "        \n",
    "        for neighbor in graph[node]:\n",
    "            if neighbor not in visited:\n",
    "                if visit(neighbor, node):\n",
    "                    return True\n",
    "            elif neighbor != parent:\n",
    "                return True\n",
    "        \n",
    "        return False\n",
    "        \n",
    "    visited = set()\n",
    "    \n",
    "    for node in graph:\n",
    "        if node not in visited:\n",
    "            if visit(node, None):\n",
    "                return True\n",
    "    \n",
    "    return False"
   ]
  },
  {
   "cell_type": "code",
   "execution_count": 11,
   "metadata": {},
   "outputs": [],
   "source": [
    "graph_directed = {\n",
    "    'A': ['B'],\n",
    "    'B': ['C'],\n",
    "    'C': ['A']\n",
    "}\n",
    "\n",
    "graph_undirected = {\n",
    "    'A': ['B'],\n",
    "    'B': ['A', 'C'],\n",
    "    'C': ['B']\n",
    "}"
   ]
  },
  {
   "cell_type": "code",
   "execution_count": 13,
   "metadata": {},
   "outputs": [
    {
     "name": "stdout",
     "output_type": "stream",
     "text": [
      "True\n",
      "False\n"
     ]
    }
   ],
   "source": [
    "print(has_cycle_directed(graph_directed))  # Output: True\n",
    "print(has_cycle_undirected(graph_undirected))  # Output: True"
   ]
  }
 ],
 "metadata": {
  "kernelspec": {
   "display_name": "Python 3",
   "language": "python",
   "name": "python3"
  },
  "language_info": {
   "codemirror_mode": {
    "name": "ipython",
    "version": 3
   },
   "file_extension": ".py",
   "mimetype": "text/x-python",
   "name": "python",
   "nbconvert_exporter": "python",
   "pygments_lexer": "ipython3",
   "version": "3.9.6"
  }
 },
 "nbformat": 4,
 "nbformat_minor": 2
}
