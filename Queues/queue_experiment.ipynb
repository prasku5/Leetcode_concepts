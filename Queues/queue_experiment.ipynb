{
 "cells": [
  {
   "cell_type": "code",
   "execution_count": 1,
   "metadata": {},
   "outputs": [],
   "source": [
    "init_queue = [] # we will initialize with an an empty list for the queue"
   ]
  },
  {
   "cell_type": "code",
   "execution_count": 16,
   "metadata": {},
   "outputs": [],
   "source": [
    "# we will only have two operations \n",
    "\n",
    "# 1. Enqueue  - Always append at right side ( Last index )\n",
    "# 2. Dequeue  - It will always pop from the left side ( Zero index )"
   ]
  },
  {
   "cell_type": "code",
   "execution_count": 11,
   "metadata": {},
   "outputs": [
    {
     "data": {
      "text/plain": [
       "[1, 5, 3]"
      ]
     },
     "execution_count": 11,
     "metadata": {},
     "output_type": "execute_result"
    }
   ],
   "source": [
    "# Enqueue will add an element to the end of the queue\n",
    "init_queue.clear() # clear the queue ( This can be optional step )\n",
    "init_queue.append(1) # \n",
    "init_queue.append(5) # \n",
    "init_queue.append(3) # \n",
    "init_queue # Notice all the element insertion will happen from right side\n",
    "\n",
    "# Enqueue operation - list will grow on the right side"
   ]
  },
  {
   "cell_type": "code",
   "execution_count": 12,
   "metadata": {},
   "outputs": [
    {
     "data": {
      "text/plain": [
       "[5, 3]"
      ]
     },
     "execution_count": 12,
     "metadata": {},
     "output_type": "execute_result"
    }
   ],
   "source": [
    "# Dequeue will remove an element from the front of the queue \n",
    "\n",
    "init_queue.pop(0) # This will remove the first element from the list\n",
    "init_queue # Notice all the element removal will happen from left side"
   ]
  },
  {
   "cell_type": "code",
   "execution_count": 14,
   "metadata": {},
   "outputs": [
    {
     "data": {
      "text/plain": [
       "[]"
      ]
     },
     "execution_count": 14,
     "metadata": {},
     "output_type": "execute_result"
    }
   ],
   "source": [
    "init_queue.pop(0) # This will remove the first element from the list\n",
    "init_queue # Notice all the element removal will happen from left side\n",
    "\n",
    "# Dequeue operation - list will shrink from the left side"
   ]
  },
  {
   "cell_type": "code",
   "execution_count": 20,
   "metadata": {},
   "outputs": [],
   "source": [
    "# But everytime we pop the element all the index position of the element needs to be shifted\n",
    "# Which is time consuming operation and not efficient \n",
    "# which is O(n) operation\n"
   ]
  },
  {
   "cell_type": "code",
   "execution_count": 27,
   "metadata": {},
   "outputs": [
    {
     "name": "stdout",
     "output_type": "stream",
     "text": [
      "element_popped 1 , data: deque([2, 3])\n"
     ]
    }
   ],
   "source": [
    "from collections import deque\n",
    "\n",
    "# O(1) Time Complexity for Append and Pop Operations\n",
    "\n",
    "# collections.deque: Append and pop operations from both ends (left and right) are O(1) due to its\n",
    "#  underlying doubly linked list implementation.\n",
    "# List: Append and pop operations from the right end are O(1). However, operations from the left end\n",
    "#  are O(n) because all elements need to be shifted.\n",
    "\n",
    "data = deque() # This will create a deque object\n",
    "\n",
    "# Enqueue operation\n",
    "data.append(1)\n",
    "data.append(2)\n",
    "data.append(3)\n",
    "\n",
    "# Dequeue operation\n",
    "element_popped = data.popleft() # This will remove the element from the left side\n",
    "\n",
    "print(f\"element_popped {element_popped} , data: {data}\") # This will print the element popped from the left side"
   ]
  },
  {
   "cell_type": "code",
   "execution_count": 33,
   "metadata": {},
   "outputs": [
    {
     "name": "stdout",
     "output_type": "stream",
     "text": [
      "customed_queue deque([1, 2, 3])\n",
      "dequed element 1\n",
      "after deque deque([2, 3])\n"
     ]
    }
   ],
   "source": [
    "# custom implementation of queue using class\n",
    "\n",
    "# O(1) Time Complexity for Append and Pop Operations\n",
    "\n",
    "# collections.deque: Append and pop operations from both ends (left and right) are O(1) due to its\n",
    "# underlying doubly linked list implementation.\n",
    "\n",
    "# List: Append and pop operations from the right end are O(1). However, operations from the left end\n",
    "# are O(n) because all elements need to be shifted.\n",
    "\n",
    "\n",
    "# Built-In Methods for Efficient Operations\n",
    "# ==========================================\n",
    "# collections.deque: Provides specialized methods such as\n",
    "# appendleft(),\n",
    "# popleft(),\n",
    "# extendleft(),\n",
    "# rotate() for more efficient deque operations.\n",
    "\n",
    "# List: Requires more complex or less efficient code to achieve similar functionality for operations on\n",
    "# the left end.\n",
    "\n",
    "\n",
    "# Memory Efficiency\n",
    "# collections.deque: More memory efficient for large numbers of append and pop operations due\n",
    "#  to its linked list structure.\n",
    "\n",
    "# List: Memory usage can be less efficient when performing frequent left-end operations due to \n",
    "# the need for element shifting\n",
    "\n",
    "\n",
    "class customed_queue:\n",
    "    def __init__(self):\n",
    "        self.queue = deque()\n",
    "        \n",
    "    def enqueue(self, element):\n",
    "        self.queue.append(element)\n",
    "        \n",
    "    def dequeue(self):\n",
    "        return self.queue.popleft()\n",
    "    \n",
    "    def __str__(self):\n",
    "        return str(self.queue)\n",
    "\n",
    "customed_queue = customed_queue()\n",
    "customed_queue.enqueue(1)\n",
    "customed_queue.enqueue(2)\n",
    "customed_queue.enqueue(3)\n",
    "print(\"customed_queue\",customed_queue) # This will print the queue\n",
    "print(\"dequed element\", customed_queue.dequeue()) # This will print the dequeued element\n",
    "print(\"after deque\", customed_queue) # This will print the queue after dequeuing the element\n"
   ]
  }
 ],
 "metadata": {
  "kernelspec": {
   "display_name": "Python 3",
   "language": "python",
   "name": "python3"
  },
  "language_info": {
   "codemirror_mode": {
    "name": "ipython",
    "version": 3
   },
   "file_extension": ".py",
   "mimetype": "text/x-python",
   "name": "python",
   "nbconvert_exporter": "python",
   "pygments_lexer": "ipython3",
   "version": "3.11.9"
  }
 },
 "nbformat": 4,
 "nbformat_minor": 2
}
