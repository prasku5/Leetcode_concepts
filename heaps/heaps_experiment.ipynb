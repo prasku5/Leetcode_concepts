{
 "cells": [
  {
   "cell_type": "code",
   "execution_count": 4,
   "metadata": {},
   "outputs": [],
   "source": [
    "# Heaps are a special tree-based data structure that satisfy the heap property. Heaps are particularly useful for implementing priority queues, and they can be used to solve a variety of problems efficiently. In Python, heaps are typically implemented using the heapq module.\n",
    "\n",
    "# Types of Heaps:\n",
    "# =================\n",
    "\n",
    "# Min-Heap:\n",
    "# =================\n",
    "# The value of the parent node is less than or equal to the values of its children.\n",
    "# The smallest element is at the root.\n",
    "\n",
    "# Max-Heap:\n",
    "# =================\n",
    "# The value of the parent node is greater than or equal to the values of its children.\n",
    "# The largest element is at the root.\n",
    "\n",
    "# Heap Operations:\n",
    "\n",
    "# Insert (Push):\n",
    "# =================\n",
    "# Add a new element to the heap and maintain the heap property.\n",
    "\n",
    "# Time complexity: O(log n).\n",
    "\n",
    "# Remove (Pop):\n",
    "# =================\n",
    "# Remove the root element (minimum in min-heap, maximum in max-heap) and maintain the heap property.\n",
    "# Time complexity: O(log n).\n",
    "\n",
    "# Peek:\n",
    "# =================\n",
    "# Return the root element without removing it.\n",
    "# Time complexity: O(1).\n"
   ]
  },
  {
   "cell_type": "code",
   "execution_count": 20,
   "metadata": {},
   "outputs": [],
   "source": [
    "# Heap Properties\n",
    "# Min-Heap:\n",
    "# Heap Property: The value of each node is less than or equal to the values of its children.\n",
    "\n",
    "# Structure Property: The tree is a complete binary tree, meaning all levels are fully filled \n",
    "# except possibly the last, which is filled from left to right.\n"
   ]
  },
  {
   "cell_type": "code",
   "execution_count": 22,
   "metadata": {},
   "outputs": [],
   "source": [
    "# Element Positioning and Popping Behavior\n",
    "# Element Positioning:\n",
    "\n",
    "# Min-Heap:\n",
    "# The smallest element is always at the root (the top of the heap).\n",
    "# The tree maintains the heap property but doesn't guarantee that the smallest elements are moved \n",
    "# to the left or right; it only guarantees that parent nodes are smaller than child nodes.\n",
    "\n",
    "# Popping Elements:\n",
    "\n",
    "# Min-Heap:\n",
    "#  When you pop the smallest element (the root), the heap property is maintained by moving the last\n",
    "#  element to the root and then performing a \"heapify\" operation to restore the heap property. This \n",
    "#  operation pushes smaller elements towards the root, but not necessarily to the left.\n"
   ]
  },
  {
   "cell_type": "code",
   "execution_count": 10,
   "metadata": {},
   "outputs": [
    {
     "name": "stdout",
     "output_type": "stream",
     "text": [
      "1\n",
      "2\n",
      "3\n"
     ]
    }
   ],
   "source": [
    "import heapq\n",
    "\n",
    "# Min-Heap\n",
    "min_heap = []\n",
    "\n",
    "# Insert elements into the heap\n",
    "heapq.heappush(min_heap, 3)\n",
    "heapq.heappush(min_heap, 1)\n",
    "heapq.heappush(min_heap, 4)\n",
    "heapq.heappush(min_heap, 2)\n",
    "\n",
    "# Normal insertion order of the list will be: [3, 1, 4, 2] (normal order) for queue, list, stack\n",
    "# deque will be happening from the left using the popleft() method\n",
    "# pop operation will be happening from the right using the pop() method\n",
    "# heap will be happening from the left using the heappop() method\n",
    "\n",
    "# Output: [1, 2, 4, 3] (heap order)\n",
    "\n",
    "# lower valued item will be inserted towards the left side of the list ( picking order )\n",
    "# higher valued item will be inserted towards the right side of the list\n",
    "# during insertion itself element will be sorted based on the value\n",
    "\n",
    "\n",
    "# Remove and return the smallest element\n",
    "print(heapq.heappop(min_heap))  # Output: 1\n",
    "print(heapq.heappop(min_heap))  # Output: 2\n",
    "\n",
    "# Peek at the smallest element\n",
    "print(min_heap[0])  # Output: 3 # 3 is the smallest element in the heap after removing 1 and 2\n"
   ]
  },
  {
   "cell_type": "code",
   "execution_count": 24,
   "metadata": {},
   "outputs": [],
   "source": [
    "# Element Positioning and Popping Behavior\n",
    "\n",
    "# Max-Heap:\n",
    "# The largest element is always at the root (the top of the heap).\n",
    "# Similarly, the tree maintains the heap property but doesn't guarantee that the largest elements\n",
    "#  are moved to the left or right; it only guarantees that parent nodes are larger than child nodes.\n",
    "\n",
    "# Popping Elements:\n",
    "\n",
    "# Max-Heap:\n",
    "# When you pop the largest element (the root), the heap property is maintained by moving the last \n",
    "# element to the root and then performing a \"heapify\" operation to restore the heap property. This \n",
    "# operation pushes larger elements towards the root, but not necessarily to the right."
   ]
  },
  {
   "cell_type": "code",
   "execution_count": 19,
   "metadata": {},
   "outputs": [
    {
     "name": "stdout",
     "output_type": "stream",
     "text": [
      "Heap after insertions (internal representation): [-4, -2, -3, -1]\n",
      "Popped elements in descending order:\n",
      "4\n",
      "3\n",
      "2\n",
      "1\n",
      "Heap after popping all elements: []\n"
     ]
    }
   ],
   "source": [
    "import heapq\n",
    "\n",
    "# Max-Heap using heapq\n",
    "max_heap = []\n",
    "\n",
    "# Insert elements into the heap (invert the values for max-heap)\n",
    "heapq.heappush(max_heap, -3)\n",
    "heapq.heappush(max_heap, -1)\n",
    "heapq.heappush(max_heap, -4)\n",
    "heapq.heappush(max_heap, -2)\n",
    "\n",
    "# The heap after insertion of elements: [-4, -2, -3, -1]\n",
    "print(\"Heap after insertions (internal representation):\", max_heap)\n",
    "\n",
    "# Remove and return the largest element (invert the value back)\n",
    "print(\"Popped elements in descending order:\")\n",
    "print(-heapq.heappop(max_heap))  # Output: 4\n",
    "print(-heapq.heappop(max_heap))  # Output: 3\n",
    "print(-heapq.heappop(max_heap))  # Output: 2\n",
    "print(-heapq.heappop(max_heap))  # Output: 1\n",
    "\n",
    "# Heap should now be empty\n",
    "print(\"Heap after popping all elements:\", max_heap)\n"
   ]
  }
 ],
 "metadata": {
  "kernelspec": {
   "display_name": "Python 3",
   "language": "python",
   "name": "python3"
  },
  "language_info": {
   "codemirror_mode": {
    "name": "ipython",
    "version": 3
   },
   "file_extension": ".py",
   "mimetype": "text/x-python",
   "name": "python",
   "nbconvert_exporter": "python",
   "pygments_lexer": "ipython3",
   "version": "3.11.9"
  }
 },
 "nbformat": 4,
 "nbformat_minor": 2
}
