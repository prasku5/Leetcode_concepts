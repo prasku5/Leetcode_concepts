{
 "cells": [
  {
   "cell_type": "markdown",
   "metadata": {},
   "source": [
    "## Basic Concepts - JSON Structure\n",
    "\n",
    "### Objects: A collection of key-value pairs, enclosed in curly braces {}.\n",
    "\n",
    "Keys are strings, and values can be strings, numbers, objects, arrays, true, false, or null.\n",
    "\n",
    "### Arrays: An ordered list of values, enclosed in square brackets [].\n",
    "\n",
    "Values can be of any type, including other arrays and objects."
   ]
  },
  {
   "cell_type": "code",
   "execution_count": 7,
   "metadata": {},
   "outputs": [],
   "source": [
    "# Example json object\n",
    "\n",
    "# Values can be strings,\n",
    "#               numbers,\n",
    "#               boolean,\n",
    "#               arrays,\n",
    "#               objects --- nested objects are allowed ---> key-value pairs\n",
    "\n",
    "exampe_json = {\n",
    "  \"name\": \"John\",   # Key: \"name\", Value: \"John\" \n",
    "  \"age\": 30,\n",
    "  \"isStudent\": False,\n",
    "  \"courses\": [\"Math\", \"Science\"], # array of strings \n",
    "  \"address\": {           # nested object as a value\n",
    "    \"city\": \"New York\",\n",
    "    \"zip\": \"10001\"\n",
    "  }\n",
    "}"
   ]
  },
  {
   "cell_type": "markdown",
   "metadata": {},
   "source": [
    "## Parsing JSON from a String\n"
   ]
  },
  {
   "cell_type": "code",
   "execution_count": 24,
   "metadata": {},
   "outputs": [
    {
     "name": "stdout",
     "output_type": "stream",
     "text": [
      "{'name': 'John', 'age': 30, 'isStudent': False, 'courses': ['Math', 'Science'], 'address': {'city': 'New York', 'zip': '10001'}}\n",
      "-------------------\n",
      "John\n",
      "New York\n"
     ]
    }
   ],
   "source": [
    "# Below code is used to convert a json object into python dictionary \n",
    "import json\n",
    "\n",
    "# Multiline JSON string\n",
    "json_string = \"\"\"{\n",
    "    \"name\": \"John\",\n",
    "    \"age\": 30,\n",
    "    \"isStudent\": false,\n",
    "    \"courses\": [\"Math\", \"Science\"],\n",
    "    \"address\": {\"city\": \"New York\", \"zip\": \"10001\"}\n",
    "}\"\"\"\n",
    "\n",
    "# Parse JSON string into a Python dictionary\n",
    "data = json.loads(json_string) # Here loads() method is used to parse JSON string into a Python dictionary\n",
    "\n",
    "print(data)\n",
    "print(\"-------------------\")\n",
    "print(data[\"name\"])\n",
    "print(data[\"address\"][\"city\"])"
   ]
  },
  {
   "cell_type": "markdown",
   "metadata": {},
   "source": [
    "Edge Case: Custom Objects\n",
    "Example:"
   ]
  },
  {
   "cell_type": "code",
   "execution_count": 25,
   "metadata": {},
   "outputs": [
    {
     "name": "stdout",
     "output_type": "stream",
     "text": [
      "{\n",
      "    \"name\": \"John\",\n",
      "    \"age\": 30\n",
      "}\n"
     ]
    }
   ],
   "source": [
    "# Below code is used to convert a Python object into a JSON string using dumps() method with indent parameter.\n",
    "import json\n",
    "\n",
    "class User:\n",
    "    def __init__(self, name, age):\n",
    "        self.name = name\n",
    "        self.age = age\n",
    "\n",
    "def user_to_dict(user):\n",
    "    return {\"name\": user.name, \"age\": user.age}\n",
    "\n",
    "user = User(\"John\", 30)\n",
    "json_string = json.dumps(user, default=user_to_dict, indent=4)\n",
    "\n",
    "# In above line of code dumps() method is used to convert Python object into a JSON string\n",
    "# default parameter is used to specify a function that converts a custom object into a dictionary \n",
    "# indent parameter is used to specify the number of spaces for indentation\n",
    "# user object is converted into a dictionary using user_to_dict() function and then converted into a JSON string\n",
    "\n",
    "# default parameter can be optional if the object can be converted into a dictionary using the built-in function\n",
    "\n",
    "# first argument of dumps() method is the object to be converted into a JSON string\n",
    "# second argument is the function that converts a custom object into a dictionary\n",
    "# third argument is the number of spaces for indentation\n",
    "\n",
    "\n",
    "print(json_string)"
   ]
  },
  {
   "cell_type": "code",
   "execution_count": 63,
   "metadata": {},
   "outputs": [
    {
     "name": "stdout",
     "output_type": "stream",
     "text": [
      "{\n",
      "    \"name\": \"John\",\n",
      "    \"age\": 30\n",
      "}\n",
      "<class 'str'>\n"
     ]
    }
   ],
   "source": [
    "import json\n",
    "\n",
    "class User:\n",
    "    def __init__(self, name, age):\n",
    "        self.name = name\n",
    "        self.age = age\n",
    "\n",
    "def user_to_dict(user):\n",
    "    return {\"name\": user.name, \"age\": user.age}\n",
    "\n",
    "user = User(\"John\", 30)\n",
    "json_string = json.dumps(user, default=user_to_dict, indent=4)\n",
    "print(json_string)\n",
    "print(type(json_string))"
   ]
  },
  {
   "cell_type": "code",
   "execution_count": 30,
   "metadata": {},
   "outputs": [],
   "source": [
    "# Handling Edge Cases\n",
    "# 1. Malformed JSON"
   ]
  },
  {
   "cell_type": "code",
   "execution_count": 31,
   "metadata": {},
   "outputs": [
    {
     "name": "stdout",
     "output_type": "stream",
     "text": [
      "Error decoding JSON: Expecting ',' delimiter: line 1 column 48 (char 47)\n"
     ]
    }
   ],
   "source": [
    "import json\n",
    "\n",
    "malformed_json_string = '{\"name\": \"John\", \"age\": 30, \"isStudent\": false \"courses\": [\"Math\", \"Science\"]}'\n",
    "\n",
    "try:\n",
    "    data = json.loads(malformed_json_string)\n",
    "except json.JSONDecodeError as e:\n",
    "    print(f\"Error decoding JSON: {e}\")"
   ]
  },
  {
   "cell_type": "code",
   "execution_count": 36,
   "metadata": {},
   "outputs": [
    {
     "ename": "JSONDecodeError",
     "evalue": "Expecting property name enclosed in double quotes: line 1 column 14 (char 13)",
     "output_type": "error",
     "traceback": [
      "\u001b[0;31m---------------------------------------------------------------------------\u001b[0m",
      "\u001b[0;31mJSONDecodeError\u001b[0m                           Traceback (most recent call last)",
      "Cell \u001b[0;32mIn[36], line 4\u001b[0m\n\u001b[1;32m      1\u001b[0m \u001b[38;5;66;03m# Non-String Keys in JSON Objects\u001b[39;00m\n\u001b[1;32m      3\u001b[0m json_string \u001b[38;5;241m=\u001b[39m \u001b[38;5;124m'\u001b[39m\u001b[38;5;124m{\u001b[39m\u001b[38;5;124m\"\u001b[39m\u001b[38;5;124m1\u001b[39m\u001b[38;5;124m\"\u001b[39m\u001b[38;5;124m: \u001b[39m\u001b[38;5;124m\"\u001b[39m\u001b[38;5;124mone\u001b[39m\u001b[38;5;124m\"\u001b[39m\u001b[38;5;124m, 2: \u001b[39m\u001b[38;5;124m\"\u001b[39m\u001b[38;5;124mtwo\u001b[39m\u001b[38;5;124m\"\u001b[39m\u001b[38;5;124m}\u001b[39m\u001b[38;5;124m'\u001b[39m\n\u001b[0;32m----> 4\u001b[0m data \u001b[38;5;241m=\u001b[39m \u001b[43mjson\u001b[49m\u001b[38;5;241;43m.\u001b[39;49m\u001b[43mloads\u001b[49m\u001b[43m(\u001b[49m\u001b[43mjson_string\u001b[49m\u001b[43m)\u001b[49m\n\u001b[1;32m      5\u001b[0m \u001b[38;5;28mprint\u001b[39m(data)\n\u001b[1;32m      6\u001b[0m \u001b[38;5;28mprint\u001b[39m(data[\u001b[38;5;124m\"\u001b[39m\u001b[38;5;124m1\u001b[39m\u001b[38;5;124m\"\u001b[39m])\n",
      "File \u001b[0;32m/usr/local/Cellar/python@3.11/3.11.9/Frameworks/Python.framework/Versions/3.11/lib/python3.11/json/__init__.py:346\u001b[0m, in \u001b[0;36mloads\u001b[0;34m(s, cls, object_hook, parse_float, parse_int, parse_constant, object_pairs_hook, **kw)\u001b[0m\n\u001b[1;32m    341\u001b[0m     s \u001b[38;5;241m=\u001b[39m s\u001b[38;5;241m.\u001b[39mdecode(detect_encoding(s), \u001b[38;5;124m'\u001b[39m\u001b[38;5;124msurrogatepass\u001b[39m\u001b[38;5;124m'\u001b[39m)\n\u001b[1;32m    343\u001b[0m \u001b[38;5;28;01mif\u001b[39;00m (\u001b[38;5;28mcls\u001b[39m \u001b[38;5;129;01mis\u001b[39;00m \u001b[38;5;28;01mNone\u001b[39;00m \u001b[38;5;129;01mand\u001b[39;00m object_hook \u001b[38;5;129;01mis\u001b[39;00m \u001b[38;5;28;01mNone\u001b[39;00m \u001b[38;5;129;01mand\u001b[39;00m\n\u001b[1;32m    344\u001b[0m         parse_int \u001b[38;5;129;01mis\u001b[39;00m \u001b[38;5;28;01mNone\u001b[39;00m \u001b[38;5;129;01mand\u001b[39;00m parse_float \u001b[38;5;129;01mis\u001b[39;00m \u001b[38;5;28;01mNone\u001b[39;00m \u001b[38;5;129;01mand\u001b[39;00m\n\u001b[1;32m    345\u001b[0m         parse_constant \u001b[38;5;129;01mis\u001b[39;00m \u001b[38;5;28;01mNone\u001b[39;00m \u001b[38;5;129;01mand\u001b[39;00m object_pairs_hook \u001b[38;5;129;01mis\u001b[39;00m \u001b[38;5;28;01mNone\u001b[39;00m \u001b[38;5;129;01mand\u001b[39;00m \u001b[38;5;129;01mnot\u001b[39;00m kw):\n\u001b[0;32m--> 346\u001b[0m     \u001b[38;5;28;01mreturn\u001b[39;00m \u001b[43m_default_decoder\u001b[49m\u001b[38;5;241;43m.\u001b[39;49m\u001b[43mdecode\u001b[49m\u001b[43m(\u001b[49m\u001b[43ms\u001b[49m\u001b[43m)\u001b[49m\n\u001b[1;32m    347\u001b[0m \u001b[38;5;28;01mif\u001b[39;00m \u001b[38;5;28mcls\u001b[39m \u001b[38;5;129;01mis\u001b[39;00m \u001b[38;5;28;01mNone\u001b[39;00m:\n\u001b[1;32m    348\u001b[0m     \u001b[38;5;28mcls\u001b[39m \u001b[38;5;241m=\u001b[39m JSONDecoder\n",
      "File \u001b[0;32m/usr/local/Cellar/python@3.11/3.11.9/Frameworks/Python.framework/Versions/3.11/lib/python3.11/json/decoder.py:337\u001b[0m, in \u001b[0;36mJSONDecoder.decode\u001b[0;34m(self, s, _w)\u001b[0m\n\u001b[1;32m    332\u001b[0m \u001b[38;5;28;01mdef\u001b[39;00m \u001b[38;5;21mdecode\u001b[39m(\u001b[38;5;28mself\u001b[39m, s, _w\u001b[38;5;241m=\u001b[39mWHITESPACE\u001b[38;5;241m.\u001b[39mmatch):\n\u001b[1;32m    333\u001b[0m \u001b[38;5;250m    \u001b[39m\u001b[38;5;124;03m\"\"\"Return the Python representation of ``s`` (a ``str`` instance\u001b[39;00m\n\u001b[1;32m    334\u001b[0m \u001b[38;5;124;03m    containing a JSON document).\u001b[39;00m\n\u001b[1;32m    335\u001b[0m \n\u001b[1;32m    336\u001b[0m \u001b[38;5;124;03m    \"\"\"\u001b[39;00m\n\u001b[0;32m--> 337\u001b[0m     obj, end \u001b[38;5;241m=\u001b[39m \u001b[38;5;28;43mself\u001b[39;49m\u001b[38;5;241;43m.\u001b[39;49m\u001b[43mraw_decode\u001b[49m\u001b[43m(\u001b[49m\u001b[43ms\u001b[49m\u001b[43m,\u001b[49m\u001b[43m \u001b[49m\u001b[43midx\u001b[49m\u001b[38;5;241;43m=\u001b[39;49m\u001b[43m_w\u001b[49m\u001b[43m(\u001b[49m\u001b[43ms\u001b[49m\u001b[43m,\u001b[49m\u001b[43m \u001b[49m\u001b[38;5;241;43m0\u001b[39;49m\u001b[43m)\u001b[49m\u001b[38;5;241;43m.\u001b[39;49m\u001b[43mend\u001b[49m\u001b[43m(\u001b[49m\u001b[43m)\u001b[49m\u001b[43m)\u001b[49m\n\u001b[1;32m    338\u001b[0m     end \u001b[38;5;241m=\u001b[39m _w(s, end)\u001b[38;5;241m.\u001b[39mend()\n\u001b[1;32m    339\u001b[0m     \u001b[38;5;28;01mif\u001b[39;00m end \u001b[38;5;241m!=\u001b[39m \u001b[38;5;28mlen\u001b[39m(s):\n",
      "File \u001b[0;32m/usr/local/Cellar/python@3.11/3.11.9/Frameworks/Python.framework/Versions/3.11/lib/python3.11/json/decoder.py:353\u001b[0m, in \u001b[0;36mJSONDecoder.raw_decode\u001b[0;34m(self, s, idx)\u001b[0m\n\u001b[1;32m    344\u001b[0m \u001b[38;5;250m\u001b[39m\u001b[38;5;124;03m\"\"\"Decode a JSON document from ``s`` (a ``str`` beginning with\u001b[39;00m\n\u001b[1;32m    345\u001b[0m \u001b[38;5;124;03ma JSON document) and return a 2-tuple of the Python\u001b[39;00m\n\u001b[1;32m    346\u001b[0m \u001b[38;5;124;03mrepresentation and the index in ``s`` where the document ended.\u001b[39;00m\n\u001b[0;32m   (...)\u001b[0m\n\u001b[1;32m    350\u001b[0m \n\u001b[1;32m    351\u001b[0m \u001b[38;5;124;03m\"\"\"\u001b[39;00m\n\u001b[1;32m    352\u001b[0m \u001b[38;5;28;01mtry\u001b[39;00m:\n\u001b[0;32m--> 353\u001b[0m     obj, end \u001b[38;5;241m=\u001b[39m \u001b[38;5;28;43mself\u001b[39;49m\u001b[38;5;241;43m.\u001b[39;49m\u001b[43mscan_once\u001b[49m\u001b[43m(\u001b[49m\u001b[43ms\u001b[49m\u001b[43m,\u001b[49m\u001b[43m \u001b[49m\u001b[43midx\u001b[49m\u001b[43m)\u001b[49m\n\u001b[1;32m    354\u001b[0m \u001b[38;5;28;01mexcept\u001b[39;00m \u001b[38;5;167;01mStopIteration\u001b[39;00m \u001b[38;5;28;01mas\u001b[39;00m err:\n\u001b[1;32m    355\u001b[0m     \u001b[38;5;28;01mraise\u001b[39;00m JSONDecodeError(\u001b[38;5;124m\"\u001b[39m\u001b[38;5;124mExpecting value\u001b[39m\u001b[38;5;124m\"\u001b[39m, s, err\u001b[38;5;241m.\u001b[39mvalue) \u001b[38;5;28;01mfrom\u001b[39;00m \u001b[38;5;28;01mNone\u001b[39;00m\n",
      "\u001b[0;31mJSONDecodeError\u001b[0m: Expecting property name enclosed in double quotes: line 1 column 14 (char 13)"
     ]
    }
   ],
   "source": [
    "# Non-String Keys in JSON Objects\n",
    "\n",
    "json_string = '{\"1\": \"one\", 2: \"two\"}'\n",
    "data = json.loads(json_string)\n",
    "print(data)\n",
    "print(data[\"1\"])"
   ]
  },
  {
   "cell_type": "code",
   "execution_count": 39,
   "metadata": {},
   "outputs": [
    {
     "name": "stdout",
     "output_type": "stream",
     "text": [
      "<class 'bool'>\n",
      "<class 'NoneType'>\n",
      "<class 'list'>\n",
      "<class 'dict'>\n",
      "{'string': 'value', 'number': 10, 'boolean': True, 'null_value': None, 'array': [1, 2, 3], 'object': {'key': 'value'}}\n"
     ]
    }
   ],
   "source": [
    "# Handling Different Data Types\n",
    "\n",
    "json_string = '{\"string\": \"value\", \"number\": 10, \"boolean\": true, \"null_value\": null, \"array\": [1, 2, 3], \"object\": {\"key\": \"value\"}}'\n",
    "\n",
    "data = json.loads(json_string)\n",
    "print(type(data[\"boolean\"]))\n",
    "print(type(data[\"null_value\"]))\n",
    "print(type(data[\"array\"]))\n",
    "print(type(data[\"object\"]))\n",
    "print(data)"
   ]
  },
  {
   "cell_type": "code",
   "execution_count": 41,
   "metadata": {},
   "outputs": [
    {
     "name": "stdout",
     "output_type": "stream",
     "text": [
      "30\n"
     ]
    }
   ],
   "source": [
    "# Advanced Concepts\n",
    "# 1. Nested JSON\n",
    "# Example:\n",
    "\n",
    "nested_json_string = '{\"user\": {\"name\": \"John\", \"details\": {\"age\": 30, \"isStudent\": false}}}'\n",
    "\n",
    "data = json.loads(nested_json_string)\n",
    "print(data[\"user\"][\"details\"][\"age\"])\n"
   ]
  },
  {
   "cell_type": "code",
   "execution_count": 64,
   "metadata": {},
   "outputs": [
    {
     "name": "stdout",
     "output_type": "stream",
     "text": [
      "John\n",
      "Alice\n",
      "Bob\n"
     ]
    }
   ],
   "source": [
    "# Working with Large JSON Files\n",
    "# Example:\n",
    "\n",
    "import json\n",
    "\n",
    "# Let's assume 'large_data.json' is a large JSON file\n",
    "with open('example.json', 'r') as file:\n",
    "    for line in file:\n",
    "        data = json.loads(line)\n",
    "        # Process each line separately\n",
    "        print(data[\"name\"])"
   ]
  },
  {
   "cell_type": "code",
   "execution_count": 61,
   "metadata": {},
   "outputs": [
    {
     "name": "stdout",
     "output_type": "stream",
     "text": [
      "{\n",
      "    \"name\": \"John\",\n",
      "    \"age\": 30,\n",
      "    \"isStudent\": false,\n",
      "    \"courses\": [\n",
      "        \"Math\",\n",
      "        \"Science\"\n",
      "    ],\n",
      "    \"address\": {\n",
      "        \"city\": \"New York\",\n",
      "        \"zip\": \"10001\"\n",
      "    }\n",
      "}\n",
      "---------\n",
      "<class 'str'>\n",
      "{'name': 'John', 'age': 30, 'isStudent': False, 'courses': ['Math', 'Science'], 'address': {'city': 'New York', 'zip': '10001'}}\n",
      "---------\n",
      "<class 'dict'>\n"
     ]
    }
   ],
   "source": [
    "# Serializing Python Objects to JSON\n",
    "# 1. Convert Python Dictionary to JSON String\n",
    "# Example:\n",
    "\n",
    "\n",
    "import json\n",
    "\n",
    "data = {  # This input is of type python dictionary \n",
    "    \"name\": \"John\",\n",
    "    \"age\": 30,\n",
    "    \"isStudent\": False,\n",
    "    \"courses\": [\"Math\", \"Science\"],\n",
    "    \"address\": {\n",
    "        \"city\": \"New York\",\n",
    "        \"zip\": \"10001\"\n",
    "    }\n",
    "}\n",
    "\n",
    "# Conversion of Python dictionary to JSON string\n",
    "\n",
    "json_string = json.dumps(data, indent=4)\n",
    "print(json_string)\n",
    "print(\"---------\")\n",
    "print(type(json_string))\n",
    "\n",
    "# conversion to json object \n",
    "json_obj = json.loads(json_string)\n",
    "print(json_obj)\n",
    "print(\"---------\")\n",
    "print(type(json_obj))\n",
    "\n",
    "\n",
    "# Here we have used dumps() method to convert a Python dictionary into a JSON string\n",
    "# The indent parameter is used to specify the number of spaces for indentation \n",
    "# The result is a JSON string \n",
    "# later we have used loads() method to convert a JSON string into a Python dictionary\n",
    "# The result is a Python dictionary \n",
    "\n",
    "# Json string is of type string\n",
    "# Python dictionary is of type dict which is a object\n"
   ]
  },
  {
   "cell_type": "code",
   "execution_count": 67,
   "metadata": {},
   "outputs": [],
   "source": [
    "# Additional Advanced Concepts\n",
    "# ============================\n",
    "# Handling Special Characters in JSON\n",
    "# Custom Deserialization\n",
    "# Streaming JSON Parsing\n",
    "# Error Handling in-depth\n",
    "# Using JSON with Pandas"
   ]
  },
  {
   "cell_type": "code",
   "execution_count": 69,
   "metadata": {},
   "outputs": [],
   "source": [
    "# Handling Special Characters in JSON\n",
    "# When dealing with JSON data that includes special characters, you need to ensure proper encoding and decoding.\n"
   ]
  },
  {
   "cell_type": "code",
   "execution_count": 70,
   "metadata": {},
   "outputs": [
    {
     "name": "stdout",
     "output_type": "stream",
     "text": [
      "{'name': 'John \\ud83d\\ude00', 'age': 30}\n"
     ]
    }
   ],
   "source": [
    "import json\n",
    "\n",
    "json_string = '{\"name\": \"John \\uD83D\\uDE00\", \"age\": 30}'\n",
    "\n",
    "data = json.loads(json_string)\n",
    "print(data)"
   ]
  },
  {
   "cell_type": "code",
   "execution_count": 71,
   "metadata": {},
   "outputs": [],
   "source": [
    "# Custom Deserialization\n",
    "# You might need to deserialize JSON data into custom Python objects. This can be done by defining a custom decoder.\n",
    "\n",
    "# Example:"
   ]
  },
  {
   "cell_type": "code",
   "execution_count": 73,
   "metadata": {},
   "outputs": [
    {
     "name": "stdout",
     "output_type": "stream",
     "text": [
      "<__main__.User object at 0x11182d790>\n",
      "John 30\n"
     ]
    }
   ],
   "source": [
    "import json\n",
    "\n",
    "class User:\n",
    "    def __init__(self, name, age):\n",
    "        self.name = name\n",
    "        self.age = age\n",
    "\n",
    "def dict_to_user(dct):\n",
    "    if \"name\" in dct and \"age\" in dct:\n",
    "        return User(dct[\"name\"], dct[\"age\"])\n",
    "    return dct\n",
    "\n",
    "json_string = '{\"name\": \"John\", \"age\": 30}'\n",
    "user = json.loads(json_string, object_hook=dict_to_user)\n",
    "\n",
    "print(user)\n",
    "print(user.name, user.age)\n"
   ]
  },
  {
   "cell_type": "code",
   "execution_count": 75,
   "metadata": {},
   "outputs": [],
   "source": [
    "#  Streaming JSON Parsing\n",
    "\n",
    "# For large JSON files, it's more efficient to process them incrementally rather than loading the entire \n",
    "# file into memory.\n",
    "\n",
    "# Example:"
   ]
  },
  {
   "cell_type": "code",
   "execution_count": 85,
   "metadata": {},
   "outputs": [
    {
     "name": "stdout",
     "output_type": "stream",
     "text": [
      "{'city': 'New York', 'zip': '10001'}\n",
      "{'city': 'Los Angeles', 'zip': '90001'}\n",
      "{'city': 'Chicago', 'zip': '60601'}\n"
     ]
    }
   ],
   "source": [
    "import json\n",
    "\n",
    "# Assuming 'example.json' contains multiple JSON objects, one per line\n",
    "with open('example.json', 'r') as file:\n",
    "    for line in file:\n",
    "        try:\n",
    "            data = json.loads(line.strip())\n",
    "            # Access the 'address' key and print its value\n",
    "            if 'address' in data:\n",
    "                print(data['address'])\n",
    "        except json.JSONDecodeError as e:\n",
    "            print(f\"Error decoding JSON: {e}\")"
   ]
  },
  {
   "cell_type": "code",
   "execution_count": 88,
   "metadata": {},
   "outputs": [],
   "source": [
    "# Error Handling In-depth\n",
    "# Beyond basic error handling, you can capture more specific exceptions and provide detailed feedback."
   ]
  },
  {
   "cell_type": "code",
   "execution_count": 89,
   "metadata": {},
   "outputs": [
    {
     "name": "stdout",
     "output_type": "stream",
     "text": [
      "Error decoding JSON: Expecting ',' delimiter: line 1 column 48 (char 47)\n",
      "Line: 1, Column: 48\n"
     ]
    }
   ],
   "source": [
    "import json\n",
    "\n",
    "malformed_json_string = '{\"name\": \"John\", \"age\": 30, \"isStudent\": false \"courses\": [\"Math\", \"Science\"]}'\n",
    "\n",
    "try:\n",
    "    data = json.loads(malformed_json_string)\n",
    "except json.JSONDecodeError as e:\n",
    "    print(f\"Error decoding JSON: {e}\")\n",
    "    print(f\"Line: {e.lineno}, Column: {e.colno}\")"
   ]
  },
  {
   "cell_type": "code",
   "execution_count": 90,
   "metadata": {},
   "outputs": [],
   "source": [
    "# Using JSON with Pandas\n",
    "# Pandas provides easy-to-use functions for working with JSON data, especially for data analysis tasks."
   ]
  },
  {
   "cell_type": "code",
   "execution_count": 93,
   "metadata": {},
   "outputs": [
    {
     "name": "stdout",
     "output_type": "stream",
     "text": [
      "   name  age\n",
      "0  John   30\n",
      "1  Jane   25\n"
     ]
    },
    {
     "name": "stderr",
     "output_type": "stream",
     "text": [
      "/var/folders/g5/4lyrpx411517gbxgrcplfhvh0000gn/T/ipykernel_1198/2068613364.py:6: FutureWarning: Passing literal json to 'read_json' is deprecated and will be removed in a future version. To read from a literal string, wrap it in a 'StringIO' object.\n",
      "  df = pd.read_json(json_string)\n"
     ]
    }
   ],
   "source": [
    "import pandas as pd\n",
    "\n",
    "json_string = '[{\"name\": \"John\", \"age\": 30}, {\"name\": \"Jane\", \"age\": 25}]'\n",
    "\n",
    "# Load JSON string into a DataFrame\n",
    "df = pd.read_json(json_string)\n",
    "\n",
    "print(df)"
   ]
  },
  {
   "cell_type": "code",
   "execution_count": null,
   "metadata": {},
   "outputs": [],
   "source": []
  }
 ],
 "metadata": {
  "kernelspec": {
   "display_name": "Python 3",
   "language": "python",
   "name": "python3"
  },
  "language_info": {
   "codemirror_mode": {
    "name": "ipython",
    "version": 3
   },
   "file_extension": ".py",
   "mimetype": "text/x-python",
   "name": "python",
   "nbconvert_exporter": "python",
   "pygments_lexer": "ipython3",
   "version": "3.11.9"
  }
 },
 "nbformat": 4,
 "nbformat_minor": 2
}
