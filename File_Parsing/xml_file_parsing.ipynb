{
 "cells": [
  {
   "cell_type": "code",
   "execution_count": 1,
   "metadata": {},
   "outputs": [],
   "source": [
    "# Basics of XML\n",
    "# XML (eXtensible Markup Language) is a markup language used to store and transport data. It is both human-readable\n",
    "#  and machine-readable. Here's a simple example of an XML file:"
   ]
  },
  {
   "cell_type": "code",
   "execution_count": 9,
   "metadata": {
    "vscode": {
     "languageId": "xml"
    }
   },
   "outputs": [
    {
     "ename": "SyntaxError",
     "evalue": "unterminated string literal (detected at line 5) (3117821911.py, line 5)",
     "output_type": "error",
     "traceback": [
      "\u001b[0;36m  Cell \u001b[0;32mIn[9], line 5\u001b[0;36m\u001b[0m\n\u001b[0;31m    <body>Don't forget me this weekend!</body>\u001b[0m\n\u001b[0m             ^\u001b[0m\n\u001b[0;31mSyntaxError\u001b[0m\u001b[0;31m:\u001b[0m unterminated string literal (detected at line 5)\n"
     ]
    }
   ],
   "source": [
    "<note>\n",
    "  <to>Tove</to>\n",
    "  <from>Jani</from>\n",
    "  <heading>Reminder</heading>\n",
    "  <body>Don't forget me this weekend!</body>\n",
    "</note>"
   ]
  },
  {
   "cell_type": "code",
   "execution_count": 13,
   "metadata": {},
   "outputs": [],
   "source": [
    "# Basic XML Parsing in Python\n",
    "# We'll use Python's built-in xml.etree.ElementTree module for parsing XML files.\n",
    "\n",
    "# 1. Reading and Parsing XML\n",
    "# Let's start with reading and parsing a simple XML file.\n",
    "\n",
    "# Example: "
   ]
  },
  {
   "cell_type": "code",
   "execution_count": 14,
   "metadata": {
    "vscode": {
     "languageId": "xml"
    }
   },
   "outputs": [
    {
     "name": "stdout",
     "output_type": "stream",
     "text": [
      "To: Tove\n",
      "From: Jani\n",
      "Heading: Reminder\n",
      "Body: Don't forget me this weekend!\n"
     ]
    }
   ],
   "source": [
    "import xml.etree.ElementTree as ET\n",
    "\n",
    "# Sample XML content\n",
    "xml_data = \"\"\"\n",
    "<note>\n",
    "  <to>Tove</to>\n",
    "  <from>Jani</from>\n",
    "  <heading>Reminder</heading>\n",
    "  <body>Don't forget me this weekend!</body>\n",
    "</note>\n",
    "\"\"\"\n",
    "\n",
    "# Parse XML\n",
    "root = ET.fromstring(xml_data)\n",
    "\n",
    "# Access elements\n",
    "to = root.find('to').text\n",
    "from_ = root.find('from').text\n",
    "heading = root.find('heading').text\n",
    "body = root.find('body').text\n",
    "\n",
    "print(f'To: {to}')\n",
    "print(f'From: {from_}')\n",
    "print(f'Heading: {heading}')\n",
    "print(f'Body: {body}')\n"
   ]
  },
  {
   "cell_type": "code",
   "execution_count": 19,
   "metadata": {},
   "outputs": [],
   "source": [
    "# Navigating through XML Elements\n",
    "# For more complex XML structures, you may need to navigate through nested elements and attributes.\n",
    "\n",
    "# Example:"
   ]
  },
  {
   "cell_type": "code",
   "execution_count": 21,
   "metadata": {
    "vscode": {
     "languageId": "xml"
    }
   },
   "outputs": [
    {
     "name": "stdout",
     "output_type": "stream",
     "text": [
      "Book ID: 1, Title: 1984, Author: George Orwell\n",
      "Book ID: 2, Title: To Kill a Mockingbird, Author: Harper Lee\n"
     ]
    }
   ],
   "source": [
    "import xml.etree.ElementTree as ET\n",
    "\n",
    "# Sample XML content\n",
    "xml_data = \"\"\"\n",
    "<library>\n",
    "  <book id=\"1\">\n",
    "    <title>1984</title>\n",
    "    <author>George Orwell</author>\n",
    "  </book>\n",
    "  <book id=\"2\">\n",
    "    <title>To Kill a Mockingbird</title>\n",
    "    <author>Harper Lee</author>\n",
    "  </book>\n",
    "</library>\n",
    "\"\"\"\n",
    "\n",
    "# Parse XML\n",
    "root = ET.fromstring(xml_data)\n",
    "\n",
    "# Iterate through books\n",
    "for book in root.findall('book'): # Find all is used to find all the elements with the tag name 'book' in the XML\n",
    "    book_id = book.get('id')\n",
    "    title = book.find('title').text\n",
    "    author = book.find('author').text\n",
    "    print(f'Book ID: {book_id}, Title: {title}, Author: {author}')"
   ]
  },
  {
   "cell_type": "code",
   "execution_count": 22,
   "metadata": {},
   "outputs": [],
   "source": [
    "# Handling Namespaces\n",
    "# Namespaces can make XML parsing more complex. Here's an example of handling namespaces.\n",
    "\n",
    "# Example:"
   ]
  },
  {
   "cell_type": "code",
   "execution_count": 30,
   "metadata": {},
   "outputs": [
    {
     "name": "stdout",
     "output_type": "stream",
     "text": [
      "Apples\n",
      "Bananas\n",
      "--------------------\n",
      "kiwi\n",
      "--------------------\n",
      "Apples\n",
      "Bananas\n",
      "Oranges\n"
     ]
    }
   ],
   "source": [
    "import xml.etree.ElementTree as ET\n",
    "\n",
    "# Sample XML content\n",
    "xml_data = \"\"\"\n",
    "<root xmlns:h=\"http://www.w3.org/TR/html4/\">\n",
    "  <h:table>\n",
    "    <h:tr>\n",
    "      <h:td>Apples</h:td>\n",
    "      <h:td>Bananas</h:td>\n",
    "    </h:tr>\n",
    "  </h:table>\n",
    "</root>\n",
    "\"\"\"\n",
    "\n",
    "# Parse XML with namespaces\n",
    "namespaces = {'h': 'http://www.w3.org/TR/html4/'} # Namspace means h is the prefix for the URL http://www.w3.org/TR/html4/\n",
    "root = ET.fromstring(xml_data)\n",
    "\n",
    "# Access elements with namespaces using findall.\n",
    "# Find all 'td' elements in the XML content and print their text.\n",
    "#  ../h:td means find all 'td' elements in the XML content. Here .// means search in the entire XML content.\n",
    "for td in root.findall('.//h:td', namespaces):\n",
    "    print(td.text)\n",
    "\n",
    "print (\"-\"*20)\n",
    "# Lets see an example of multiple namespaces\n",
    "# xmlns means XML namespace. It is used to avoid name conflicts.\n",
    "# in root we have two namespaces h and f and they denote two different URLs.\n",
    "# we can use the prefix to search the elements in the XML content.\n",
    "\n",
    "xml_data = \"\"\"\n",
    "<root xmlns:h=\"http://www.w3.org/TR/html4/\" xmlns:f=\"https://www.w3schools.com/furniture\">\n",
    "  <h:table>\n",
    "    <h:tr>\n",
    "      <h:td>Apples</h:td>\n",
    "      <h:td>Bananas</h:td>\n",
    "      <h:td>Oranges</h:td>\n",
    "    </h:tr>\n",
    "  </h:table>\n",
    "  <f:table>\n",
    "    <f:name>African Coffee Table</f:name>\n",
    "    <f:width>80</f:width>\n",
    "    <f:length>120</f:length>\n",
    "    <f:td>kiwi</f:td>\n",
    "  </f:table>\n",
    "</root>\n",
    "\"\"\"\n",
    "\n",
    "# Parse XML with multiple namespaces\n",
    "namespaces = {'h': 'http://www.w3.org/TR/html4/', 'f': 'https://www.w3schools.com/furniture'}\n",
    "# we define namespace as a dictionary with prefix as key and URL as value.\n",
    "# this will help us to use the prefix in the search query. \n",
    "\n",
    "root = ET.fromstring(xml_data)\n",
    "\n",
    "# Access elements with namespaces using findall.\n",
    "# Find all 'td' elements in the XML content and print their text.\n",
    "\n",
    "for td in root.findall('.//f:td', namespaces):\n",
    "    print(td.text)\n",
    "\n",
    "print(\"-\"*20)\n",
    "\n",
    "for td in root.findall('.//h:td', namespaces):\n",
    "    print(td.text)"
   ]
  },
  {
   "cell_type": "code",
   "execution_count": 31,
   "metadata": {},
   "outputs": [],
   "source": [
    "# Modifying XML\n",
    "# You can also modify XML content and write it back to a file.\n",
    "\n",
    "# Example:"
   ]
  },
  {
   "cell_type": "code",
   "execution_count": 32,
   "metadata": {},
   "outputs": [],
   "source": [
    "import xml.etree.ElementTree as ET\n",
    "\n",
    "# Sample XML content\n",
    "xml_data = \"\"\"\n",
    "<note>\n",
    "  <to>Tove</to>\n",
    "  <from>Jani</from>\n",
    "  <heading>Reminder</heading>\n",
    "  <body>Don't forget me this weekend!</body>\n",
    "</note>\n",
    "\"\"\"\n",
    "\n",
    "# Parse XML\n",
    "root = ET.fromstring(xml_data)\n",
    "\n",
    "# Modify an element\n",
    "root.find('body').text = \"Don't forget our meeting this weekend!\"\n",
    "\n",
    "# Write back to a file\n",
    "tree = ET.ElementTree(root)\n",
    "tree.write('modified_note.xml')\n"
   ]
  },
  {
   "cell_type": "code",
   "execution_count": 34,
   "metadata": {},
   "outputs": [],
   "source": [
    "# Advanced Data Engineering with XML\n",
    "\n",
    "# For data engineering, you might deal with large XML files and need to use efficient methods\n",
    "# for parsing and extracting data.\n",
    "\n",
    "# Example: Parsing Large XML with Iterative Parsing"
   ]
  },
  {
   "cell_type": "code",
   "execution_count": 38,
   "metadata": {},
   "outputs": [
    {
     "name": "stdout",
     "output_type": "stream",
     "text": [
      "Book ID: 1, Title: 1984, Author: George Orwell\n",
      "Book ID: 2, Title: To Kill a Mockingbird, Author: Harper Lee\n",
      "Book ID: 3, Title: The Great Gatsby, Author: F. Scott Fitzgerald\n",
      "Book ID: 4, Title: Catch-22, Author: Joseph Heller\n",
      "Book ID: 5, Title: The Catcher in the Rye, Author: J.D. Salinger\n",
      "Book ID: 6, Title: Brave New World, Author: Aldous Huxley\n",
      "Book ID: 7, Title: Animal Farm, Author: George Orwell\n",
      "Book ID: 8, Title: The Hobbit, Author: J.R.R. Tolkien\n",
      "Book ID: 9, Title: Fahrenheit 451, Author: Ray Bradbury\n",
      "Book ID: 10, Title: Jane Eyre, Author: Charlotte Brontë\n"
     ]
    }
   ],
   "source": [
    "import xml.etree.ElementTree as ET\n",
    "\n",
    "# Function to parse large XML files efficiently\n",
    "def parse_large_xml(file_path):\n",
    "    # Use iterparse to parse large XML files efficiently and avoid loading the entire file into memory\n",
    "    # iterparse is an iterative parser that only loads parts of the XML file into memory as needed.\n",
    "    # This is useful for large XML files that don't fit into memory.\n",
    "    \n",
    "    # We can use iterparse to parse the XML file in an iterative manner and clear the root element after\n",
    "    # processing each element.\n",
    "    context = ET.iterparse(file_path, events=(\"start\", \"end\"))\n",
    "    # iterparse takes the file path and events as arguments. Here, we specify \"start\" and \"end\" events.\n",
    "    # This means that the parser will generate events when it encounters the start and end of an element.\n",
    "    # start event is generated when the parser encounters the start of an element.\n",
    "    # end event is generated when the parser encounters the end of an element which means the element is fully parsed.\n",
    "    context = iter(context)\n",
    "    # We use the iter() function to create an iterator from the context object.\n",
    "    # context object is an iterator that generates events when the parser encounters the start and end of an element.\n",
    "    event, root = next(context)\n",
    "    # next function is used to get the next event and root element from the context iterator.\n",
    "    # Iterate through the XML content\n",
    "    # We iterate through the XML content using a for loop and process each element.\n",
    "    for event, elem in context:\n",
    "        if event == \"end\" and elem.tag == \"book\":\n",
    "            # elem.tag is used to get the tag name of the element.\n",
    "            # Here, we check if the tag name is \"book\" and process the element.\n",
    "            book_id = elem.get('id')\n",
    "            title = elem.find('title').text\n",
    "            author = elem.find('author').text\n",
    "            print(f'Book ID: {book_id}, Title: {title}, Author: {author}')\n",
    "            root.clear()\n",
    "\n",
    "# Example file path\n",
    "file_path = 'example.xml'\n",
    "parse_large_xml(file_path)\n"
   ]
  },
  {
   "cell_type": "code",
   "execution_count": null,
   "metadata": {},
   "outputs": [],
   "source": []
  }
 ],
 "metadata": {
  "kernelspec": {
   "display_name": "Python 3",
   "language": "python",
   "name": "python3"
  },
  "language_info": {
   "codemirror_mode": {
    "name": "ipython",
    "version": 3
   },
   "file_extension": ".py",
   "mimetype": "text/x-python",
   "name": "python",
   "nbconvert_exporter": "python",
   "pygments_lexer": "ipython3",
   "version": "3.11.9"
  }
 },
 "nbformat": 4,
 "nbformat_minor": 2
}
