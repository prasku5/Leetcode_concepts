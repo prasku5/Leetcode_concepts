{
 "cells": [
  {
   "cell_type": "code",
   "execution_count": 1,
   "metadata": {},
   "outputs": [],
   "source": [
    "# Binary search is particularly useful in scenarios where you need to efficiently locate a target\n",
    "# value within a sorted collection of elements. Here are some common situations where binary search\n",
    "# is applicable:\n",
    "\n",
    "# Searching in Sorted Arrays or Lists: When you have a sorted array or list and need to find if a\n",
    "# specific element exists, binary search provides a very efficient way to do this.\n",
    "\n",
    "# Finding Boundaries: Binary search can be used to find boundaries or ranges, such as finding the\n",
    "# first or last occurrence of a value in a sorted array.\n",
    "\n",
    "# Checking Existence: If you need to check if a specific value exists in a sorted dataset, binary\n",
    "# search can quickly determine its presence or absence.\n",
    "\n",
    "# Optimization Problems: Binary search can be applied in optimization problems where you need to\n",
    "# maximize or minimize a certain property that can be evaluated with a function.\n",
    "\n",
    "# Range Queries: It's useful for range queries, such as finding elements within a specific range\n",
    "# or closest values.\n",
    "\n",
    "# Game Strategies: In certain game strategies or simulations where decisions are based on searching\n",
    "# for optimal moves or configurations.\n",
    "\n",
    "# String Matching: Binary search can also be adapted for string matching algorithms when working with\n",
    "# sorted lists of strings.\n",
    "\n",
    "# In summary, binary search is highly efficient when dealing with sorted data and is a fundamental \n",
    "# algorithmic technique used in a wide range of applications from software development to scientific computing."
   ]
  },
  {
   "cell_type": "markdown",
   "metadata": {},
   "source": []
  },
  {
   "cell_type": "markdown",
   "metadata": {},
   "source": [
    "# Searching in Sorted Arrays or Lists: When you have a sorted array or list and need to find if a specific element exists, binary search provides a very efficient way to do this."
   ]
  },
  {
   "cell_type": "markdown",
   "metadata": {},
   "source": [
    "## Iterative Binary Search\n"
   ]
  },
  {
   "cell_type": "code",
   "execution_count": 13,
   "metadata": {},
   "outputs": [
    {
     "name": "stdout",
     "output_type": "stream",
     "text": [
      "4\n"
     ]
    }
   ],
   "source": [
    "def binary_search_iterative(arr, target):\n",
    "    left, right = 0, len(arr) - 1\n",
    "    while left <= right:\n",
    "        mid =  left + (right - left) // 2 # we are performing the floor division here.\n",
    "\n",
    "        # we are adding difference by 2 and adding it to the left index to get the middle index.\n",
    "        # we adding to left index because we are not sure if the difference is even or odd.\n",
    "        # if it is odd, then the middle index will be left biased, so we need to add the difference to left index.\n",
    "        # if it is even, then the middle index will be right biased, so we need to add the difference to left index.\n",
    "        \n",
    "        # Even number of digits\n",
    "        # for example, if left = 0, right = 5, then mid = 0 + (5 - 0) [since we are excluding] // 2 = 2\n",
    "        \n",
    "        # Odd number of digits\n",
    "        # if left = 0, right = 6, then mid = 0 + (6 - 0) // 2 = 3\n",
    "    \n",
    "\n",
    "        if arr[mid] == target:\n",
    "            return mid  # Found the target, return its index\n",
    "        elif arr[mid] < target:\n",
    "            left = mid + 1  # Target is in the right half\n",
    "        else:\n",
    "            right = mid - 1  # Target is in the left half\n",
    "    return -1  # Target not found\n",
    "\n",
    "# Example usage:\n",
    "arr = [1, 2, 3, 4, 5, 6, 7, 8, 9]\n",
    "target = 5\n",
    "print(binary_search_iterative(arr, target))  # Output: 4 (index of 5 in arr)\n"
   ]
  },
  {
   "cell_type": "markdown",
   "metadata": {},
   "source": [
    "## Recursive Binary Search\n"
   ]
  },
  {
   "cell_type": "code",
   "execution_count": 11,
   "metadata": {},
   "outputs": [
    {
     "name": "stdout",
     "output_type": "stream",
     "text": [
      "4\n"
     ]
    }
   ],
   "source": [
    "def binary_search_recursive(arr, target, left, right):\n",
    "    if left > right: # Invalidation condition\n",
    "        return -1  # Target not found\n",
    "\n",
    "    mid = left + (right - left) // 2\n",
    "    if arr[mid] == target:\n",
    "        return mid                                          # Found the target, return its index\n",
    "    elif arr[mid] < target:\n",
    "        return binary_search_recursive(arr, target, mid + 1, right)  # Search in the right half\n",
    "    else:\n",
    "        return binary_search_recursive(arr, target, left, mid - 1)  # Search in the left half\n",
    "\n",
    "# Wrapper function for recursive binary search\n",
    "def binary_search(arr, target):\n",
    "    return binary_search_recursive(arr, target, 0, len(arr) - 1)\n",
    "\n",
    "# Example usage:\n",
    "arr = [1, 2, 3, 4, 5, 6, 7, 8, 9]\n",
    "target = 5\n",
    "print(binary_search(arr, target))  # Output: 4 (index of 5 in arr)\n"
   ]
  },
  {
   "cell_type": "code",
   "execution_count": 5,
   "metadata": {},
   "outputs": [
    {
     "name": "stdout",
     "output_type": "stream",
     "text": [
      "-1\n"
     ]
    }
   ],
   "source": [
    "## Handling Edge Cases\n",
    "# Empty List:\n",
    "\n",
    "arr = []\n",
    "target = 5\n",
    "print(binary_search_iterative(arr, target))  # Output: -1 (target not found)\n"
   ]
  },
  {
   "cell_type": "code",
   "execution_count": 6,
   "metadata": {},
   "outputs": [
    {
     "name": "stdout",
     "output_type": "stream",
     "text": [
      "0\n"
     ]
    }
   ],
   "source": [
    "# Single Element List:\n",
    "\n",
    "arr = [5]\n",
    "target = 5\n",
    "print(binary_search_iterative(arr, target))  # Output: 0 (index of 5 in arr)\n"
   ]
  },
  {
   "cell_type": "code",
   "execution_count": 7,
   "metadata": {},
   "outputs": [
    {
     "name": "stdout",
     "output_type": "stream",
     "text": [
      "-1\n"
     ]
    }
   ],
   "source": [
    "# Target Not Found:\n",
    "\n",
    "arr = [1, 2, 3, 4, 6, 7, 8, 9]\n",
    "target = 5\n",
    "print(binary_search_iterative(arr, target))  # Output: -1 (target not found)\n"
   ]
  },
  {
   "cell_type": "code",
   "execution_count": 8,
   "metadata": {},
   "outputs": [
    {
     "name": "stdout",
     "output_type": "stream",
     "text": [
      "0\n"
     ]
    }
   ],
   "source": [
    "# Target at Boundary:\n",
    "\n",
    "arr = [1, 2, 3, 4, 5, 6, 7, 8, 9]\n",
    "target = 1\n",
    "print(binary_search_iterative(arr, target))  # Output: 0 (index of 1 in arr)\n"
   ]
  },
  {
   "cell_type": "code",
   "execution_count": 9,
   "metadata": {},
   "outputs": [
    {
     "name": "stdout",
     "output_type": "stream",
     "text": [
      "4999\n"
     ]
    }
   ],
   "source": [
    "# Large List with Even and Odd Number of Elements:\n",
    "\n",
    "arr = list(range(1, 10001))  # List from 1 to 10000\n",
    "target = 5000\n",
    "print(binary_search_iterative(arr, target))  # Output: 4999 (index of 5000 in arr)\n"
   ]
  },
  {
   "cell_type": "markdown",
   "metadata": {},
   "source": [
    "# Finding Boundaries: Binary search can be used to find boundaries or ranges, such as finding the first or last occurrence of a value in a sorted array"
   ]
  },
  {
   "cell_type": "code",
   "execution_count": 14,
   "metadata": {},
   "outputs": [],
   "source": [
    "# Binary search can be effectively used to find the first and last occurrences of a value in a sorted\n",
    "#  array. Here are the simplest examples along with edge cases and how to handle them.\n",
    "\n",
    "# Finding the First Occurrence of a Value\n",
    "\n",
    "# To find the first occurrence of a value in a sorted array, modify the standard binary search to\n",
    "# continue searching on the left half even after finding the target."
   ]
  },
  {
   "cell_type": "code",
   "execution_count": 15,
   "metadata": {},
   "outputs": [
    {
     "name": "stdout",
     "output_type": "stream",
     "text": [
      "1\n",
      "0\n",
      "-1\n",
      "-1\n"
     ]
    }
   ],
   "source": [
    "def find_first_occurrence(arr, target):\n",
    "    left, right = 0, len(arr) - 1\n",
    "    first_occurrence = -1\n",
    "    while left <= right:\n",
    "        mid = left + (right - left) // 2\n",
    "        if arr[mid] == target:\n",
    "            first_occurrence = mid\n",
    "            right = mid - 1  # Continue searching on the left side\n",
    "        elif arr[mid] < target:\n",
    "            left = mid + 1\n",
    "        else:\n",
    "            right = mid - 1\n",
    "    return first_occurrence\n",
    "\n",
    "# Test cases\n",
    "print(find_first_occurrence([1, 2, 2, 2, 3, 4], 2))  # Output: 1\n",
    "print(find_first_occurrence([1, 1, 1, 1, 1], 1))     # Output: 0\n",
    "print(find_first_occurrence([1, 2, 3, 4, 5], 6))     # Output: -1\n",
    "print(find_first_occurrence([], 1))                  # Output: -1"
   ]
  },
  {
   "cell_type": "markdown",
   "metadata": {},
   "source": [
    "Finding the Last Occurrence of a Value\n",
    "To find the last occurrence of a value in a sorted array, modify the standard binary search to\n",
    " continue searching on the right half even after finding the target."
   ]
  },
  {
   "cell_type": "code",
   "execution_count": 16,
   "metadata": {},
   "outputs": [
    {
     "name": "stdout",
     "output_type": "stream",
     "text": [
      "3\n",
      "4\n",
      "-1\n",
      "-1\n"
     ]
    }
   ],
   "source": [
    "def find_last_occurrence(arr, target):\n",
    "    left, right = 0, len(arr) - 1\n",
    "    last_occurrence = -1\n",
    "    while left <= right:\n",
    "        mid = left + (right - left) // 2\n",
    "        if arr[mid] == target:\n",
    "            last_occurrence = mid\n",
    "            left = mid + 1  # Continue searching on the right side\n",
    "        elif arr[mid] < target:\n",
    "            left = mid + 1\n",
    "        else:\n",
    "            right = mid - 1\n",
    "    return last_occurrence\n",
    "\n",
    "# Test cases\n",
    "print(find_last_occurrence([1, 2, 2, 2, 3, 4], 2))  # Output: 3\n",
    "print(find_last_occurrence([1, 1, 1, 1, 1], 1))     # Output: 4\n",
    "print(find_last_occurrence([1, 2, 3, 4, 5], 6))     # Output: -1\n",
    "print(find_last_occurrence([], 1))                  # Output: -1\n"
   ]
  },
  {
   "cell_type": "code",
   "execution_count": 17,
   "metadata": {},
   "outputs": [],
   "source": [
    "# Edge Cases to Be Aware Of\n",
    "\n",
    "# Target Value Not Present: If the target value is not present in the array, both functions should\n",
    "# return -1.\n",
    "\n",
    "# Empty Array: If the array is empty, the functions should return -1.\n",
    "\n",
    "# All Elements Are the Target: If all elements in the array are the target, the first occurrence \n",
    "# should be 0, and the last occurrence should be len(arr) - 1.\n",
    "\n",
    "# Single Element Array: If the array contains a single element, ensure the functions correctly \n",
    "# identify whether it matches the target or not."
   ]
  },
  {
   "cell_type": "markdown",
   "metadata": {},
   "source": [
    "## Checking Existence: If you need to check if a specific value exists in a sorted dataset, binary search can quickly determine its presence or absence."
   ]
  },
  {
   "cell_type": "code",
   "execution_count": 18,
   "metadata": {},
   "outputs": [
    {
     "name": "stdout",
     "output_type": "stream",
     "text": [
      "True\n",
      "False\n",
      "False\n",
      "True\n",
      "False\n",
      "False\n",
      "False\n"
     ]
    }
   ],
   "source": [
    "def binary_search(arr, target):\n",
    "    # Edge case: empty array\n",
    "    if not arr:\n",
    "        return False\n",
    "\n",
    "    left, right = 0, len(arr) - 1\n",
    "    while left <= right:\n",
    "        mid = left + (right - left) // 2\n",
    "        if arr[mid] == target:\n",
    "            return True\n",
    "        elif arr[mid] < target:\n",
    "            left = mid + 1\n",
    "        else:\n",
    "            right = mid - 1\n",
    "\n",
    "    return False\n",
    "\n",
    "# Test cases with edge cases\n",
    "print(binary_search([1, 2, 3, 4, 5], 3))  # Output: True (target is present)\n",
    "print(binary_search([1, 2, 3, 4, 5], 6))  # Output: False (target is not present)\n",
    "print(binary_search([], 1))               # Output: False (empty array)\n",
    "print(binary_search([1], 1))              # Output: True (single element array, target is present)\n",
    "print(binary_search([1], 2))              # Output: False (single element array, target is not present)\n",
    "print(binary_search([1, 3, 5, 7], 2))     # Output: False (target is less than all elements)\n",
    "print(binary_search([1, 3, 5, 7], 8))     # Output: False (target is greater than all elements"
   ]
  },
  {
   "cell_type": "markdown",
   "metadata": {},
   "source": [
    "## Binary search can be adapted for string matching algorithms, particularly when working with sorted lists of strings. This can be useful for various applications like dictionary lookups, auto-completion features, and more.\n",
    "\n",
    "Problem: Given a sorted list of strings, find if a specific string exists in the list.\n",
    "Basic String Matching Using Binary Search\n",
    "Here’s a simple binary search function to check if a specific string exists in a sorted list of strings:"
   ]
  },
  {
   "cell_type": "code",
   "execution_count": 19,
   "metadata": {},
   "outputs": [
    {
     "name": "stdout",
     "output_type": "stream",
     "text": [
      "True\n",
      "False\n",
      "False\n",
      "True\n",
      "False\n"
     ]
    }
   ],
   "source": [
    "def binary_search_string(arr, target):\n",
    "    left, right = 0, len(arr) - 1\n",
    "    while left <= right:\n",
    "        mid = left + (right - left) // 2\n",
    "        if arr[mid] == target:\n",
    "            return True\n",
    "        elif arr[mid] < target:\n",
    "            left = mid + 1\n",
    "        else:\n",
    "            right = mid - 1\n",
    "    return False\n",
    "\n",
    "# Test cases\n",
    "print(binary_search_string([\"apple\", \"banana\", \"cherry\", \"date\", \"fig\"], \"cherry\"))  # Output: True\n",
    "print(binary_search_string([\"apple\", \"banana\", \"cherry\", \"date\", \"fig\"], \"grape\"))  # Output: False\n",
    "print(binary_search_string([], \"apple\"))                                           # Output: False\n",
    "print(binary_search_string([\"apple\"], \"apple\"))                                    # Output: True\n",
    "print(binary_search_string([\"apple\"], \"banana\"))                                   # Output: False\n"
   ]
  },
  {
   "cell_type": "code",
   "execution_count": 21,
   "metadata": {},
   "outputs": [],
   "source": [
    "# Finding the First and Last Occurrences of a String\n",
    "# Similar to numeric arrays, you can also find the first and last occurrences of a string in a\n",
    "# sorted list. This is useful if there are duplicate entries."
   ]
  },
  {
   "cell_type": "code",
   "execution_count": 22,
   "metadata": {},
   "outputs": [
    {
     "name": "stdout",
     "output_type": "stream",
     "text": [
      "2\n",
      "-1\n"
     ]
    }
   ],
   "source": [
    "def find_first_occurrence_string(arr, target):\n",
    "    left, right = 0, len(arr) - 1\n",
    "    first_occurrence = -1\n",
    "    while left <= right:\n",
    "        mid = left + (right - left) // 2\n",
    "        if arr[mid] == target:\n",
    "            first_occurrence = mid\n",
    "            right = mid - 1  # Continue searching on the left side\n",
    "        elif arr[mid] < target:\n",
    "            left = mid + 1\n",
    "        else:\n",
    "            right = mid - 1\n",
    "    return first_occurrence\n",
    "\n",
    "# Test cases\n",
    "print(find_first_occurrence_string([\"apple\", \"banana\", \"cherry\", \"cherry\", \"date\"], \"cherry\"))  # Output: 2\n",
    "print(find_first_occurrence_string([\"apple\", \"banana\", \"cherry\", \"date\"], \"grape\"))           # Output: -1\n"
   ]
  },
  {
   "cell_type": "code",
   "execution_count": 23,
   "metadata": {},
   "outputs": [
    {
     "name": "stdout",
     "output_type": "stream",
     "text": [
      "3\n",
      "-1\n"
     ]
    }
   ],
   "source": [
    "def find_last_occurrence_string(arr, target):\n",
    "    left, right = 0, len(arr) - 1\n",
    "    last_occurrence = -1\n",
    "    while left <= right:\n",
    "        mid = left + (right - left) // 2\n",
    "        if arr[mid] == target:\n",
    "            last_occurrence = mid\n",
    "            left = mid + 1  # Continue searching on the right side\n",
    "        elif arr[mid] < target:\n",
    "            left = mid + 1\n",
    "        else:\n",
    "            right = mid - 1\n",
    "    return last_occurrence\n",
    "\n",
    "# Test cases\n",
    "print(find_last_occurrence_string([\"apple\", \"banana\", \"cherry\", \"cherry\", \"date\"], \"cherry\"))  # Output: 3\n",
    "print(find_last_occurrence_string([\"apple\", \"banana\", \"cherry\", \"date\"], \"grape\"))           # Output: -1\n"
   ]
  },
  {
   "cell_type": "code",
   "execution_count": null,
   "metadata": {},
   "outputs": [],
   "source": []
  }
 ],
 "metadata": {
  "kernelspec": {
   "display_name": "Python 3",
   "language": "python",
   "name": "python3"
  },
  "language_info": {
   "codemirror_mode": {
    "name": "ipython",
    "version": 3
   },
   "file_extension": ".py",
   "mimetype": "text/x-python",
   "name": "python",
   "nbconvert_exporter": "python",
   "pygments_lexer": "ipython3",
   "version": "3.11.9"
  }
 },
 "nbformat": 4,
 "nbformat_minor": 2
}
