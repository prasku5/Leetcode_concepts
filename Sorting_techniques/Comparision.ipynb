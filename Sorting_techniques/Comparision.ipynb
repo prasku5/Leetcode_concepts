{
 "cells": [
  {
   "cell_type": "markdown",
   "metadata": {},
   "source": [
    "## Bubblesort"
   ]
  },
  {
   "cell_type": "markdown",
   "metadata": {},
   "source": [
    "Bubble sort repeatedly steps through the list, compares adjacent elements, and swaps them if they are in the wrong order. This process is repeated until the list is sorted.\n",
    "\n",
    "Here's a detailed breakdown of the bubble sort:\n",
    "\n",
    "Outer Loop: Controls the number of passes through the list. Each pass moves the next largest element to its correct position.\n",
    "Inner Loop: Compares adjacent elements and swaps them if the left element is larger than the right element.\n",
    "Swapping: This process continues until the inner loop completes, effectively \"bubbling\" the largest unsorted element to its correct position at the end of the list.\n"
   ]
  },
  {
   "cell_type": "code",
   "execution_count": 3,
   "metadata": {},
   "outputs": [
    {
     "name": "stdout",
     "output_type": "stream",
     "text": [
      "outside inner while loop [4, 3, 2, 1, 5]\n",
      "outside inner while loop [3, 2, 1, 4, 5]\n",
      "outside inner while loop [2, 1, 3, 4, 5]\n",
      "outside inner while loop [1, 2, 3, 4, 5]\n",
      "outside inner while loop [1, 2, 3, 4, 5]\n",
      "final resulted array is  [1, 2, 3, 4, 5]\n"
     ]
    }
   ],
   "source": [
    "s = [5, 4, 3, 2, 1]\n",
    "l = 0\n",
    "\n",
    "while l < len(s):\n",
    "    r = 0  # always start from the beginning of the list\n",
    "    while r < len(s)-1:  # Ensure r doesn't go out of bounds\n",
    "        if s[r] > s[r + 1]:\n",
    "            # Swap the elements\n",
    "            s[r], s[r + 1] = s[r + 1], s[r] # This is example of bubble sort algorithm \n",
    "        r += 1\n",
    "    print(f'outside inner while loop {s}')\n",
    "    l += 1\n",
    "\n",
    "print(f'final resulted array is  {s}')\n"
   ]
  },
  {
   "cell_type": "markdown",
   "metadata": {},
   "source": [
    "## Quick sort"
   ]
  },
  {
   "cell_type": "markdown",
   "metadata": {},
   "source": [
    "Quick sort is a highly efficient sorting algorithm that uses a divide-and-conquer approach to sort elements. Here’s a high-level overview of how quick sort works:\n",
    "\n",
    "Choose a Pivot: Select an element from the array as the pivot. There are various strategies for choosing the pivot (e.g., first element, last element, middle element, or a random element).\n",
    "\n",
    "Partition: Rearrange the elements in the array so that all elements less than the pivot come before it, and all elements greater than the pivot come after it. The pivot is now in its correct position.\n",
    "\n",
    "Recursively Apply: Apply the above steps recursively to the sub-arrays of elements with smaller values and larger values.\n",
    "\n",
    "Here's the quick sort algorithm implemented in Python:"
   ]
  },
  {
   "cell_type": "markdown",
   "metadata": {},
   "source": []
  },
  {
   "cell_type": "code",
   "execution_count": 1,
   "metadata": {},
   "outputs": [
    {
     "name": "stdout",
     "output_type": "stream",
     "text": [
      "[1, 2, 3, 4, 5]\n"
     ]
    }
   ],
   "source": [
    "def quick_sort(arr):\n",
    "    if len(arr) <= 1:\n",
    "        return arr\n",
    "    else:\n",
    "        pivot = arr[len(arr) // 2]  # Choosing the middle element as the pivot\n",
    "\n",
    "        left = [x for x in arr if x < pivot]   # Choose the element which is less than pivot\n",
    "        middle = [x for x in arr if x == pivot] # Choose the element which is equal to pivot\n",
    "        right = [x for x in arr if x > pivot]  # Choose the element which is greater than pivot\n",
    "        return quick_sort(left) + middle + quick_sort(right)\n",
    "\n",
    "s = [5, 4, 3, 2, 1]\n",
    "sorted_s = quick_sort(s)\n",
    "print(sorted_s)"
   ]
  },
  {
   "cell_type": "markdown",
   "metadata": {},
   "source": [
    "## Merge sort"
   ]
  },
  {
   "cell_type": "markdown",
   "metadata": {},
   "source": [
    "Merge sort is a divide-and-conquer algorithm that divides the input array into two halves, calls itself for the two halves, and then merges the two sorted halves. The merge function is used to combine the two halves."
   ]
  },
  {
   "cell_type": "markdown",
   "metadata": {},
   "source": [
    "Here's a detailed breakdown of how this implementation works:\n",
    "\n",
    "Divide: The list is divided into two halves until each sublist contains a single element.\n",
    "\n",
    "Conquer: The sublists are then sorted recursively.\n",
    "\n",
    "Combine: The sorted sublists are merged into a single sorted list.\n",
    "\n",
    "Explanation of the Code:\n",
    "\n",
    "Base Case: If the list has only one element, it is already sorted, so the function returns.\n",
    "\n",
    "Divide: The list is split into two halves, left_half and right_half.\n",
    "\n",
    "Recursive Sort: The merge_sort function is called recursively on both halves.\n",
    "\n",
    "Merge: The two sorted halves are merged back together:\n",
    "\n",
    "The while loops compare elements from left_half and right_half and copy the smaller element to the original list.\n",
    "\n",
    "After one of the halves is exhausted, the remaining elements from the other half are copied to the original list."
   ]
  },
  {
   "cell_type": "code",
   "execution_count": 5,
   "metadata": {},
   "outputs": [
    {
     "name": "stdout",
     "output_type": "stream",
     "text": [
      "[1, 2, 3, 4, 5]\n"
     ]
    }
   ],
   "source": [
    "def merge_sort(arr):\n",
    "    if len(arr) > 1:\n",
    "        # Finding the middle of the array\n",
    "        mid = len(arr) // 2 # Here // operator is floor division operator which will give the integer value\n",
    "        \n",
    "        # Dividing the array elements into two halves\n",
    "\n",
    "        left_half = arr[:mid] # This will take the elements from 0 to mid-1 and excludes mid element\n",
    "        right_half = arr[mid:] # This will take the elements from mid to end (inclusive of mid)\n",
    "        \n",
    "        # Sorting the first half\n",
    "        merge_sort(left_half)\n",
    "        \n",
    "        # Sorting the second half\n",
    "        merge_sort(right_half)\n",
    "        \n",
    "        i = j = k = 0\n",
    "        \n",
    "        # This is the merging part of the algorithm\n",
    "        \n",
    "        # Copy data to temp arrays left_half[] and right_half[] \n",
    "        while i < len(left_half) and j < len(right_half):\n",
    "            if left_half[i] < right_half[j]:\n",
    "                arr[k] = left_half[i]  # Which ever is lowest will be placed in the array\n",
    "                i += 1\n",
    "            else:\n",
    "                arr[k] = right_half[j] # Which ever is lowest will be placed in the array\n",
    "                j += 1\n",
    "            k += 1                      # Increment the index of the array\n",
    "        \n",
    "        # Checking if any element was left\n",
    "        while i < len(left_half):\n",
    "            arr[k] = left_half[i]\n",
    "            i += 1\n",
    "            k += 1\n",
    "        \n",
    "        while j < len(right_half):\n",
    "            arr[k] = right_half[j]\n",
    "            j += 1\n",
    "            k += 1\n",
    "\n",
    "# Example usage\n",
    "s = [5, 4, 3, 2, 1]\n",
    "merge_sort(s)\n",
    "print(s)\n"
   ]
  }
 ],
 "metadata": {
  "kernelspec": {
   "display_name": "Python 3",
   "language": "python",
   "name": "python3"
  },
  "language_info": {
   "codemirror_mode": {
    "name": "ipython",
    "version": 3
   },
   "file_extension": ".py",
   "mimetype": "text/x-python",
   "name": "python",
   "nbconvert_exporter": "python",
   "pygments_lexer": "ipython3",
   "version": "3.11.9"
  }
 },
 "nbformat": 4,
 "nbformat_minor": 2
}
