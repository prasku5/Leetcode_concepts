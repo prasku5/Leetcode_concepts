{
 "cells": [
  {
   "cell_type": "code",
   "execution_count": 5,
   "metadata": {},
   "outputs": [],
   "source": [
    "# There are n kids with candies. You are given an integer array candies, where each candies[i] represents the number of\n",
    "#  candies the ith kid has, and an integer extraCandies, denoting the number of extra candies that you have.\n",
    "\n",
    "# Return a boolean array result of length n, where result[i] is true if, after giving the ith kid all the extraCandies, \n",
    "# they will have the greatest number of candies among all the kids, or false otherwise.\n",
    "\n",
    "# Note that multiple kids can have the greatest number of candies.\n",
    "\n",
    "# Example 1:\n",
    "\n",
    "# Input: candies = [2,3,5,1,3], extraCandies = 3\n",
    "# Output: [true,true,true,false,true] \n",
    "# Explanation: If you give all extraCandies to:\n",
    "# - Kid 1, they will have 2 + 3 = 5 candies, which is the greatest among the kids.\n",
    "# - Kid 2, they will have 3 + 3 = 6 candies, which is the greatest among the kids.\n",
    "# - Kid 3, they will have 5 + 3 = 8 candies, which is the greatest among the kids.\n",
    "# - Kid 4, they will have 1 + 3 = 4 candies, which is not the greatest among the kids.\n",
    "# - Kid 5, they will have 3 + 3 = 6 candies, which is the greatest among the kids.\n",
    "# Example 2:\n",
    "\n",
    "# Input: candies = [4,2,1,1,2], extraCandies = 1\n",
    "# Output: [true,false,false,false,false] \n",
    "# Explanation: There is only 1 extra candy.\n",
    "# Kid 1 will always have the greatest number of candies, even if a different kid is given the extra candy.\n",
    "# Example 3:\n",
    "\n",
    "# Input: candies = [12,1,12], extraCandies = 10\n",
    "# Output: [true,false,true]\n",
    " \n",
    "\n",
    "# Constraints:\n",
    "\n",
    "# n == candies.length\n",
    "# 2 <= n <= 100\n",
    "# 1 <= candies[i] <= 100\n",
    "# 1 <= extraCandies <= 50"
   ]
  },
  {
   "cell_type": "code",
   "execution_count": 9,
   "metadata": {},
   "outputs": [],
   "source": [
    "from typing import List\n",
    "\n",
    "class Solution:\n",
    "    def kidsWithCandies(self, candies: List[int], extraCandies: int) -> List[bool]:\n",
    "        i = 0 # This is the counter for the while loop\n",
    "        temp_max = 0 \n",
    "        result_list = []\n",
    "        while i < len(candies): # Getting the max from the loop using while loop which is O(n)\n",
    "            if candies[i] > temp_max:\n",
    "                temp_max = candies[i]\n",
    "            i+=1\n",
    "        # print(\"temp_max is \", temp_max)\n",
    "        \n",
    "        #Once we have the max we can iterate the loop store the value in di\n",
    "        for i in range(len(candies)):\n",
    "            if candies[i] + extraCandies < temp_max:\n",
    "                result_list.append(False)\n",
    "            else:\n",
    "                result_list.append(True)\n",
    "        return result_list"
   ]
  },
  {
   "cell_type": "code",
   "execution_count": 7,
   "metadata": {},
   "outputs": [],
   "source": [
    "solution_obj = Solution()"
   ]
  },
  {
   "cell_type": "code",
   "execution_count": 8,
   "metadata": {},
   "outputs": [
    {
     "name": "stdout",
     "output_type": "stream",
     "text": [
      "[True, True, True, False, True]\n"
     ]
    }
   ],
   "source": [
    "print(solution_obj.kidsWithCandies([2,3,5,1,3], 3))"
   ]
  }
 ],
 "metadata": {
  "kernelspec": {
   "display_name": "Python 3",
   "language": "python",
   "name": "python3"
  },
  "language_info": {
   "codemirror_mode": {
    "name": "ipython",
    "version": 3
   },
   "file_extension": ".py",
   "mimetype": "text/x-python",
   "name": "python",
   "nbconvert_exporter": "python",
   "pygments_lexer": "ipython3",
   "version": "3.11.9"
  }
 },
 "nbformat": 4,
 "nbformat_minor": 2
}
