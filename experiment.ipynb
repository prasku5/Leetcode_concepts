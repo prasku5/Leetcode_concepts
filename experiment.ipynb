{
 "cells": [
  {
   "cell_type": "code",
   "execution_count": 8,
   "metadata": {},
   "outputs": [
    {
     "name": "stdout",
     "output_type": "stream",
     "text": [
      "before pop operation 0,50\n",
      "before pop operation 1,67\n",
      "before pop operation 2,89\n",
      "before pop operation 3,128\n",
      "before pop operation 4,80\n",
      "after first pop operation 0,50\n",
      "after first pop operation 1,89\n",
      "after first pop operation 2,128\n",
      "after first pop operation 3,80\n",
      "after second pop operation 0,50\n",
      "after second pop operation 1,89\n",
      "after second pop operation 2,128\n"
     ]
    }
   ],
   "source": [
    "#Lets see how popping two element with impact the list pointer index\n",
    "\n",
    "#       0   1  2  3  4\n",
    "nums = [50,67,89,128,80]\n",
    "#           L     R\n",
    "\n",
    "\n",
    "for key,val in enumerate(nums):\n",
    "    print(f\"before pop operation {key},{val}\")\n",
    "\n",
    "nums.pop(1)\n",
    "\n",
    "for key,val in enumerate(nums):\n",
    "    print(f\"after first pop operation {key},{val}\")\n",
    "\n",
    "\n",
    "nums.pop(3)\n",
    "#          0  1  2  3  4\n",
    "# nums = [50,  ,89,   ,80]\n",
    "#            L      R\n",
    "#          0  1  2   \n",
    "# nums = [50,89,80]\n",
    "#          L    R     \n",
    "#Notice index of 89 beomes (2---> 1) left shifted\n",
    "\n",
    "for key,val in enumerate(nums):\n",
    "    print(f\"after second pop operation {key},{val}\")\n"
   ]
  },
  {
   "cell_type": "code",
   "execution_count": 10,
   "metadata": {},
   "outputs": [
    {
     "name": "stdout",
     "output_type": "stream",
     "text": [
      "h,w\n",
      "e,o\n",
      "l,r\n",
      "l,l\n",
      "o,d\n"
     ]
    }
   ],
   "source": [
    "#Zip operation on two strings \n",
    "\n",
    "str1 = \"hello\"\n",
    "str2 = \"world_extend\"\n",
    "\n",
    "for key,val in zip(str1,str2):\n",
    "    print(f\"{key},{val}\")\n",
    "\n",
    "# Rest of the elements are ignored in case of zip operation for the longer string"
   ]
  },
  {
   "cell_type": "code",
   "execution_count": 12,
   "metadata": {},
   "outputs": [
    {
     "name": "stdout",
     "output_type": "stream",
     "text": [
      "0,h\n",
      "1,e\n",
      "2,l\n",
      "3,l\n",
      "4,o\n"
     ]
    }
   ],
   "source": [
    "# enumerate operation on string\n",
    "\n",
    "str1 = \"hello\"\n",
    "\n",
    "for key,val in enumerate(str1):\n",
    "    print(f\"{key},{val}\")"
   ]
  },
  {
   "cell_type": "code",
   "execution_count": null,
   "metadata": {},
   "outputs": [],
   "source": []
  }
 ],
 "metadata": {
  "kernelspec": {
   "display_name": "Python 3",
   "language": "python",
   "name": "python3"
  },
  "language_info": {
   "codemirror_mode": {
    "name": "ipython",
    "version": 3
   },
   "file_extension": ".py",
   "mimetype": "text/x-python",
   "name": "python",
   "nbconvert_exporter": "python",
   "pygments_lexer": "ipython3",
   "version": "3.11.9"
  }
 },
 "nbformat": 4,
 "nbformat_minor": 2
}
